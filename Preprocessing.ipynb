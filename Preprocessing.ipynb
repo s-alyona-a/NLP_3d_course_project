{
  "nbformat": 4,
  "nbformat_minor": 0,
  "metadata": {
    "colab": {
      "provenance": []
    },
    "kernelspec": {
      "name": "python3",
      "display_name": "Python 3"
    },
    "language_info": {
      "name": "python"
    }
  },
  "cells": [
    {
      "cell_type": "markdown",
      "source": [
        "Импортируем библиотеки"
      ],
      "metadata": {
        "id": "Ztoiy9wKpLzU"
      }
    },
    {
      "cell_type": "code",
      "execution_count": 1,
      "metadata": {
        "id": "oYF_FofeOwNe"
      },
      "outputs": [],
      "source": [
        "import requests\n",
        "import bs4\n",
        "from bs4 import BeautifulSoup\n",
        "import time\n",
        "from datetime import datetime\n",
        "import random"
      ]
    },
    {
      "cell_type": "code",
      "source": [
        "import string"
      ],
      "metadata": {
        "id": "_zLhPnza72gI"
      },
      "execution_count": 33,
      "outputs": []
    },
    {
      "cell_type": "code",
      "source": [
        "punctuation = string.punctuation"
      ],
      "metadata": {
        "id": "PeZYy2OH77xd"
      },
      "execution_count": 34,
      "outputs": []
    },
    {
      "cell_type": "code",
      "source": [
        "import re"
      ],
      "metadata": {
        "id": "0sC_JO8UmOkQ"
      },
      "execution_count": 2,
      "outputs": []
    },
    {
      "cell_type": "code",
      "source": [
        "import nltk"
      ],
      "metadata": {
        "id": "4AR7Ehczd1qe"
      },
      "execution_count": 3,
      "outputs": []
    },
    {
      "cell_type": "code",
      "source": [
        "from nltk.tokenize import word_tokenize, sent_tokenize\n",
        "nltk.download('punkt')"
      ],
      "metadata": {
        "id": "2ZD_88I5eMjm",
        "colab": {
          "base_uri": "https://localhost:8080/"
        },
        "outputId": "6bba49e8-0141-4bd7-8d9b-dd71b68d8ccd"
      },
      "execution_count": 4,
      "outputs": [
        {
          "output_type": "stream",
          "name": "stderr",
          "text": [
            "[nltk_data] Downloading package punkt to /root/nltk_data...\n",
            "[nltk_data]   Unzipping tokenizers/punkt.zip.\n"
          ]
        },
        {
          "output_type": "execute_result",
          "data": {
            "text/plain": [
              "True"
            ]
          },
          "metadata": {},
          "execution_count": 4
        }
      ]
    },
    {
      "cell_type": "code",
      "source": [
        "!pip install pymorphy3"
      ],
      "metadata": {
        "id": "RXreVGA4ikxz",
        "colab": {
          "base_uri": "https://localhost:8080/"
        },
        "outputId": "9547ee9a-5d41-4315-94e4-8b7e68bd0819"
      },
      "execution_count": 5,
      "outputs": [
        {
          "output_type": "stream",
          "name": "stdout",
          "text": [
            "Collecting pymorphy3\n",
            "  Downloading pymorphy3-1.2.1-py3-none-any.whl (55 kB)\n",
            "\u001b[2K     \u001b[90m━━━━━━━━━━━━━━━━━━━━━━━━━━━━━━━━━━━━━━━━\u001b[0m \u001b[32m55.4/55.4 kB\u001b[0m \u001b[31m858.6 kB/s\u001b[0m eta \u001b[36m0:00:00\u001b[0m\n",
            "\u001b[?25hCollecting dawg-python>=0.7.1 (from pymorphy3)\n",
            "  Downloading DAWG_Python-0.7.2-py2.py3-none-any.whl (11 kB)\n",
            "Collecting docopt-ng>=0.6 (from pymorphy3)\n",
            "  Downloading docopt_ng-0.9.0-py3-none-any.whl (16 kB)\n",
            "Collecting pymorphy3-dicts-ru (from pymorphy3)\n",
            "  Downloading pymorphy3_dicts_ru-2.4.417150.4580142-py2.py3-none-any.whl (8.4 MB)\n",
            "\u001b[2K     \u001b[90m━━━━━━━━━━━━━━━━━━━━━━━━━━━━━━━━━━━━━━━━\u001b[0m \u001b[32m8.4/8.4 MB\u001b[0m \u001b[31m52.6 MB/s\u001b[0m eta \u001b[36m0:00:00\u001b[0m\n",
            "\u001b[?25hInstalling collected packages: pymorphy3-dicts-ru, dawg-python, docopt-ng, pymorphy3\n",
            "Successfully installed dawg-python-0.7.2 docopt-ng-0.9.0 pymorphy3-1.2.1 pymorphy3-dicts-ru-2.4.417150.4580142\n"
          ]
        }
      ]
    },
    {
      "cell_type": "code",
      "source": [
        "from pymorphy3 import MorphAnalyzer\n",
        "morph = MorphAnalyzer()"
      ],
      "metadata": {
        "id": "mmO1JooSe8oz"
      },
      "execution_count": 6,
      "outputs": []
    },
    {
      "cell_type": "code",
      "source": [
        "import pandas as pd"
      ],
      "metadata": {
        "id": "N2gbBxv8gIJ1"
      },
      "execution_count": 7,
      "outputs": []
    },
    {
      "cell_type": "code",
      "source": [
        "import os"
      ],
      "metadata": {
        "id": "UNhGl6-bWYFu"
      },
      "execution_count": 8,
      "outputs": []
    },
    {
      "cell_type": "code",
      "source": [
        "session = requests.session()"
      ],
      "metadata": {
        "id": "sxhoAT8CPJlA"
      },
      "execution_count": 9,
      "outputs": []
    },
    {
      "cell_type": "markdown",
      "source": [
        "Функция добычи ссылок"
      ],
      "metadata": {
        "id": "8uw6gsgXpTXZ"
      }
    },
    {
      "cell_type": "code",
      "source": [
        "def href_list(link):\n",
        "    lst = []\n",
        "    response = session.get(link)\n",
        "    page = response.text\n",
        "    soup = BeautifulSoup(page, 'html.parser')\n",
        "    authors = soup.find_all('a', href=True)\n",
        "    for author in authors:\n",
        "        lst.append(author['href'])\n",
        "    return lst"
      ],
      "metadata": {
        "id": "0eh5GcaiPNp-"
      },
      "execution_count": 10,
      "outputs": []
    },
    {
      "cell_type": "markdown",
      "source": [
        "Функция добычи текста"
      ],
      "metadata": {
        "id": "CbJIg4m0ph0G"
      }
    },
    {
      "cell_type": "code",
      "source": [
        "def get_text(link):\n",
        "    response = session.get(link)\n",
        "    page = response.text\n",
        "    soup = BeautifulSoup(page, 'html.parser')\n",
        "    title = soup.find('title').text.split('. ')\n",
        "    if len(title) > 1:\n",
        "        author = title[0]\n",
        "        book_title = title[1]\n",
        "        title_string = '. '.join(title)\n",
        "        text = soup.text\n",
        "        text_list = text.split(title_string)\n",
        "        text = text_list[-1]\n",
        "        idxs = list(re.finditer('---', text))\n",
        "        if len(idxs) > 0:\n",
        "            text = text[idxs[-1].end():]\n",
        "        text = text.replace('\\n', ' ')\n",
        "        return author, book_title, text\n",
        "    else:\n",
        "        print(title)\n",
        "        return -1, -1, -1"
      ],
      "metadata": {
        "id": "_mcYPQHZjIsc"
      },
      "execution_count": 11,
      "outputs": []
    },
    {
      "cell_type": "markdown",
      "source": [
        "Собираем список авторов детективов"
      ],
      "metadata": {
        "id": "kH3I1n5GpzMi"
      }
    },
    {
      "cell_type": "code",
      "source": [
        "author_list = href_list('http://lib.ru/RUSS_DETEKTIW/')"
      ],
      "metadata": {
        "id": "OsQ_vxFOaSNh"
      },
      "execution_count": 12,
      "outputs": []
    },
    {
      "cell_type": "code",
      "source": [
        "new_author_list = []\n",
        "for author in author_list:\n",
        "    f  = True\n",
        "    author_1 = author.replace('/', '')\n",
        "    alpha = '_QWERTYUIOPASDFGHJKLZXCVBNM'\n",
        "    for let in author_1:\n",
        "        if let not in alpha:\n",
        "            f = False\n",
        "            break\n",
        "    if f:\n",
        "        new_author_list.append(author)"
      ],
      "metadata": {
        "id": "TXiN48B4bEW7"
      },
      "execution_count": 13,
      "outputs": []
    },
    {
      "cell_type": "code",
      "source": [
        "new_author_list = new_author_list[8:]"
      ],
      "metadata": {
        "id": "4uDtJpuadnLa"
      },
      "execution_count": 14,
      "outputs": []
    },
    {
      "cell_type": "code",
      "source": [
        "base_link = 'http://lib.ru/RUSS_DETEKTIW/'"
      ],
      "metadata": {
        "id": "77yvcffid7dn"
      },
      "execution_count": 15,
      "outputs": []
    },
    {
      "cell_type": "code",
      "source": [
        "dict_authors = dict()"
      ],
      "metadata": {
        "id": "iF-tP6eHf-s1"
      },
      "execution_count": 16,
      "outputs": []
    },
    {
      "cell_type": "markdown",
      "source": [
        "Собираем список книг для всех авторов"
      ],
      "metadata": {
        "id": "9EJ1seHGp35u"
      }
    },
    {
      "cell_type": "code",
      "source": [
        "for author in new_author_list:\n",
        "    link = base_link + '/' + author\n",
        "    dict_authors[author] = []\n",
        "    h_list = href_list(link)\n",
        "    for href in h_list:\n",
        "        if href[-4:] == '.txt':\n",
        "            if '/' not in href:\n",
        "                dict_authors[author].append(href)"
      ],
      "metadata": {
        "id": "tn4ZB6OweC0N"
      },
      "execution_count": 17,
      "outputs": []
    },
    {
      "cell_type": "code",
      "source": [
        "k = 0\n",
        "for author in dict_authors:\n",
        "    print(dict_authors[author])\n",
        "    k += len(dict_authors[author])\n",
        "print(k)  # количество текстов"
      ],
      "metadata": {
        "id": "7Yz3FpYPxMUf"
      },
      "execution_count": null,
      "outputs": []
    },
    {
      "cell_type": "code",
      "source": [
        "punctuation"
      ],
      "metadata": {
        "colab": {
          "base_uri": "https://localhost:8080/",
          "height": 36
        },
        "id": "xaL7g4xY-nex",
        "outputId": "9ef02107-22fd-40d9-914c-56536f7832bc"
      },
      "execution_count": 45,
      "outputs": [
        {
          "output_type": "execute_result",
          "data": {
            "text/plain": [
              "'!\"#$%&\\'()*+,-./:;<=>?@[\\\\]^_`{|}~'"
            ],
            "application/vnd.google.colaboratory.intrinsic+json": {
              "type": "string"
            }
          },
          "metadata": {},
          "execution_count": 45
        }
      ]
    },
    {
      "cell_type": "markdown",
      "source": [
        "Функция, проверяющая слово ли токен (исключает пунктуацию)"
      ],
      "metadata": {
        "id": "qaNuqqNzp9LF"
      }
    },
    {
      "cell_type": "code",
      "source": [
        "def is_alpha_1(word):\n",
        "    if len(word) < 2:\n",
        "        if not word.isalpha():\n",
        "            return False\n",
        "    else:\n",
        "        for i in range(1, len(word)):\n",
        "            if not word[i].isalpha() and not word[i-1].isalpha():\n",
        "                return False\n",
        "    return True"
      ],
      "metadata": {
        "id": "Chon2AEl-tQX"
      },
      "execution_count": 59,
      "outputs": []
    },
    {
      "cell_type": "markdown",
      "source": [
        "Функция, собирающая файлы с текстами и список слов"
      ],
      "metadata": {
        "id": "_lD8dwHDqKLP"
      }
    },
    {
      "cell_type": "code",
      "source": [
        "def main_function(author_list, dict_authors, base_link, start, end):\n",
        "    global NMB_TEXT\n",
        "    global WORDS_LIST\n",
        "    for author in author_list[start:end]:  # taking authors from the start to the end\n",
        "        list_texts = dict_authors[author] # list of all author's titles\n",
        "        for text in list_texts:\n",
        "            sents_list = [] #list of all dicts with sentences and its numbers of one text\n",
        "            link = base_link + '/' + author + text\n",
        "            book_author, book_title, text = get_text(link)\n",
        "            if book_author != -1:\n",
        "                nmb_words = 0\n",
        "                nmb_sent = 1\n",
        "                for sent in sent_tokenize(text, language='russian'):\n",
        "                    words = word_tokenize(sent)\n",
        "                    words = [w for w in words if is_alpha_1(w)]\n",
        "                    if words != []:\n",
        "                        nmb_word = 1\n",
        "                        for word in words:\n",
        "                            ana = morph.parse(word)[0]\n",
        "                            WORDS_LIST.append({'word': ana.word, 'lemma': ana.normal_form, 'pos': ana.tag.POS, 'nmb_text': NMB_TEXT, 'nmb_sent': nmb_sent, 'nmb_word': nmb_word})\n",
        "                            nmb_word += 1\n",
        "                        nmb_words += nmb_word\n",
        "                        sents_list.append({'sentence': sent, 'nmb_sent': nmb_sent, 'author':book_author, 'title':book_title})\n",
        "                        nmb_sent += 1\n",
        "                        if nmb_words >= 100:\n",
        "                            break\n",
        "                sent_df = pd.DataFrame(sents_list)\n",
        "                file_name = 'text' + str(NMB_TEXT) +'.csv'\n",
        "                sent_df.to_csv(file_name, encoding='utf-8')\n",
        "                NMB_TEXT += 1\n",
        "            else:\n",
        "                continue\n",
        ""
      ],
      "metadata": {
        "id": "b5ZGjhrgQ3oQ"
      },
      "execution_count": 60,
      "outputs": []
    },
    {
      "cell_type": "code",
      "source": [
        "word_tokenize('мама мыла-мыла, раму')"
      ],
      "metadata": {
        "colab": {
          "base_uri": "https://localhost:8080/"
        },
        "id": "OfRZVSLY8bhi",
        "outputId": "3d19687e-4045-4e0c-8aee-57b1924987d5"
      },
      "execution_count": 36,
      "outputs": [
        {
          "output_type": "execute_result",
          "data": {
            "text/plain": [
              "['мама', 'мыла-мыла', ',', 'раму']"
            ]
          },
          "metadata": {},
          "execution_count": 36
        }
      ]
    },
    {
      "cell_type": "code",
      "source": [
        "NMB_TEXT"
      ],
      "metadata": {
        "colab": {
          "base_uri": "https://localhost:8080/"
        },
        "id": "lsoJpFfz0Q2B",
        "outputId": "bf0f88de-842a-475f-b3ff-bb66b64e6d45"
      },
      "execution_count": 49,
      "outputs": [
        {
          "output_type": "execute_result",
          "data": {
            "text/plain": [
              "56"
            ]
          },
          "metadata": {},
          "execution_count": 49
        }
      ]
    },
    {
      "cell_type": "code",
      "source": [
        "Собираем по частям, чтобы не ломался сайт"
      ],
      "metadata": {
        "id": "U2UX3Ggpqi7X"
      },
      "execution_count": null,
      "outputs": []
    },
    {
      "cell_type": "code",
      "source": [
        "WORDS_LIST = []\n",
        "NMB_TEXT = 1"
      ],
      "metadata": {
        "id": "OOPOIwblSsPK"
      },
      "execution_count": 61,
      "outputs": []
    },
    {
      "cell_type": "code",
      "source": [
        "main_function(new_author_list, dict_authors, base_link, 0, 5)"
      ],
      "metadata": {
        "colab": {
          "base_uri": "https://localhost:8080/"
        },
        "id": "zcBZ5xYbTDao",
        "outputId": "e01f5179-3589-48c2-91cb-6f8defb84c6f"
      },
      "execution_count": 62,
      "outputs": [
        {
          "output_type": "stream",
          "name": "stdout",
          "text": [
            "['/RUSS_DETEKTIW/BAKUNIN/leviafan.txt']\n",
            "['Марианна Баконина: об авторе']\n",
            "['Copyright notice']\n"
          ]
        }
      ]
    },
    {
      "cell_type": "code",
      "source": [
        "main_function(new_author_list, dict_authors, base_link, 5, 10)"
      ],
      "metadata": {
        "colab": {
          "base_uri": "https://localhost:8080/"
        },
        "id": "mkTm_LXCsUZQ",
        "outputId": "e1245bbf-43cc-489f-8880-5e9742b1b84e"
      },
      "execution_count": 63,
      "outputs": [
        {
          "output_type": "stream",
          "name": "stdout",
          "text": [
            "['Copyright notice']\n"
          ]
        }
      ]
    },
    {
      "cell_type": "code",
      "source": [
        "main_function(new_author_list, dict_authors, base_link, 10, 15)"
      ],
      "metadata": {
        "id": "WdlxbzlbapU2"
      },
      "execution_count": 64,
      "outputs": []
    },
    {
      "cell_type": "code",
      "source": [
        "main_function(new_author_list, dict_authors, base_link, 15, 20)"
      ],
      "metadata": {
        "colab": {
          "base_uri": "https://localhost:8080/"
        },
        "id": "GA6ypHbwapRA",
        "outputId": "e9733172-0da8-490a-f602-fef49f6e6bf5"
      },
      "execution_count": 65,
      "outputs": [
        {
          "output_type": "stream",
          "name": "stdout",
          "text": [
            "['/RUSS_DETEKTIW/MIHAJLIK/black.txt']\n",
            "['Чужаки']\n"
          ]
        }
      ]
    },
    {
      "cell_type": "code",
      "source": [
        "main_function(new_author_list, dict_authors, base_link, 20, 25)"
      ],
      "metadata": {
        "colab": {
          "base_uri": "https://localhost:8080/"
        },
        "id": "7177gIc3t2eU",
        "outputId": "5404bd51-7b06-438c-b574-9190535501ce"
      },
      "execution_count": 66,
      "outputs": [
        {
          "output_type": "stream",
          "name": "stdout",
          "text": [
            "['Copyright notice']\n",
            "['Евгения Кукаркина: библиография']\n"
          ]
        }
      ]
    },
    {
      "cell_type": "markdown",
      "source": [
        "Записываем слова в файл"
      ],
      "metadata": {
        "id": "1fWGWro5pEW3"
      }
    },
    {
      "cell_type": "code",
      "source": [
        "word_df = pd.DataFrame(WORDS_LIST)\n",
        "file_name = 'words.csv'\n",
        "word_df\n",
        "word_df.to_csv(file_name, encoding='utf-8')"
      ],
      "metadata": {
        "id": "nnvMXh4M2Jj8"
      },
      "execution_count": 67,
      "outputs": []
    },
    {
      "cell_type": "markdown",
      "source": [
        "Загружаем файлы на компьютер"
      ],
      "metadata": {
        "id": "mo7iOlX_o4Ky"
      }
    },
    {
      "cell_type": "code",
      "source": [
        "directory_path = '/content/'\n",
        "directory_files = os.listdir(directory_path)\n",
        "print(sorted(directory_files))\n",
        "print(len(directory_files))"
      ],
      "metadata": {
        "colab": {
          "base_uri": "https://localhost:8080/"
        },
        "id": "8y6_NsqQc8n-",
        "outputId": "32c8c5e6-1105-49e9-c9d9-32ef08d4dca7"
      },
      "execution_count": 30,
      "outputs": [
        {
          "output_type": "stream",
          "name": "stdout",
          "text": [
            "['.config', 'sample_data', 'text1.csv', 'text10.csv', 'text100.csv', 'text101.csv', 'text102.csv', 'text103.csv', 'text104.csv', 'text105.csv', 'text106.csv', 'text107.csv', 'text108.csv', 'text109.csv', 'text11.csv', 'text110.csv', 'text111.csv', 'text112.csv', 'text113.csv', 'text114.csv', 'text115.csv', 'text116.csv', 'text117.csv', 'text118.csv', 'text119.csv', 'text12.csv', 'text120.csv', 'text121.csv', 'text122.csv', 'text123.csv', 'text13.csv', 'text14.csv', 'text15.csv', 'text16.csv', 'text17.csv', 'text18.csv', 'text19.csv', 'text2.csv', 'text20.csv', 'text21.csv', 'text22.csv', 'text23.csv', 'text24.csv', 'text25.csv', 'text26.csv', 'text27.csv', 'text28.csv', 'text29.csv', 'text3.csv', 'text30.csv', 'text31.csv', 'text32.csv', 'text33.csv', 'text34.csv', 'text35.csv', 'text36.csv', 'text37.csv', 'text38.csv', 'text39.csv', 'text4.csv', 'text40.csv', 'text41.csv', 'text42.csv', 'text43.csv', 'text44.csv', 'text45.csv', 'text46.csv', 'text47.csv', 'text48.csv', 'text49.csv', 'text5.csv', 'text50.csv', 'text51.csv', 'text52.csv', 'text53.csv', 'text54.csv', 'text55.csv', 'text56.csv', 'text57.csv', 'text58.csv', 'text59.csv', 'text6.csv', 'text60.csv', 'text61.csv', 'text62.csv', 'text63.csv', 'text64.csv', 'text65.csv', 'text66.csv', 'text67.csv', 'text68.csv', 'text69.csv', 'text7.csv', 'text70.csv', 'text71.csv', 'text72.csv', 'text73.csv', 'text74.csv', 'text75.csv', 'text76.csv', 'text77.csv', 'text78.csv', 'text79.csv', 'text8.csv', 'text80.csv', 'text81.csv', 'text82.csv', 'text83.csv', 'text84.csv', 'text85.csv', 'text86.csv', 'text87.csv', 'text88.csv', 'text89.csv', 'text9.csv', 'text90.csv', 'text91.csv', 'text92.csv', 'text93.csv', 'text94.csv', 'text95.csv', 'text96.csv', 'text97.csv', 'text98.csv', 'text99.csv', 'words.csv']\n",
            "126\n"
          ]
        }
      ]
    },
    {
      "cell_type": "code",
      "source": [
        "from google.colab import files\n",
        "for f in sorted(directory_files)[0:10]:\n",
        "    if f != '.config' and f != 'sample_data' and f != '.ipynb_checkpoints':\n",
        "        files.download(f)"
      ],
      "metadata": {
        "colab": {
          "base_uri": "https://localhost:8080/",
          "height": 17
        },
        "id": "dopoqfo7cdWr",
        "outputId": "5cfe136c-e178-452d-96a2-316fee5d7f29"
      },
      "execution_count": 31,
      "outputs": [
        {
          "output_type": "display_data",
          "data": {
            "text/plain": [
              "<IPython.core.display.Javascript object>"
            ],
            "application/javascript": [
              "\n",
              "    async function download(id, filename, size) {\n",
              "      if (!google.colab.kernel.accessAllowed) {\n",
              "        return;\n",
              "      }\n",
              "      const div = document.createElement('div');\n",
              "      const label = document.createElement('label');\n",
              "      label.textContent = `Downloading \"${filename}\": `;\n",
              "      div.appendChild(label);\n",
              "      const progress = document.createElement('progress');\n",
              "      progress.max = size;\n",
              "      div.appendChild(progress);\n",
              "      document.body.appendChild(div);\n",
              "\n",
              "      const buffers = [];\n",
              "      let downloaded = 0;\n",
              "\n",
              "      const channel = await google.colab.kernel.comms.open(id);\n",
              "      // Send a message to notify the kernel that we're ready.\n",
              "      channel.send({})\n",
              "\n",
              "      for await (const message of channel.messages) {\n",
              "        // Send a message to notify the kernel that we're ready.\n",
              "        channel.send({})\n",
              "        if (message.buffers) {\n",
              "          for (const buffer of message.buffers) {\n",
              "            buffers.push(buffer);\n",
              "            downloaded += buffer.byteLength;\n",
              "            progress.value = downloaded;\n",
              "          }\n",
              "        }\n",
              "      }\n",
              "      const blob = new Blob(buffers, {type: 'application/binary'});\n",
              "      const a = document.createElement('a');\n",
              "      a.href = window.URL.createObjectURL(blob);\n",
              "      a.download = filename;\n",
              "      div.appendChild(a);\n",
              "      a.click();\n",
              "      div.remove();\n",
              "    }\n",
              "  "
            ]
          },
          "metadata": {}
        },
        {
          "output_type": "display_data",
          "data": {
            "text/plain": [
              "<IPython.core.display.Javascript object>"
            ],
            "application/javascript": [
              "download(\"download_8c34f428-070f-4d95-a850-10fd69350dd3\", \"text1.csv\", 2270)"
            ]
          },
          "metadata": {}
        },
        {
          "output_type": "display_data",
          "data": {
            "text/plain": [
              "<IPython.core.display.Javascript object>"
            ],
            "application/javascript": [
              "\n",
              "    async function download(id, filename, size) {\n",
              "      if (!google.colab.kernel.accessAllowed) {\n",
              "        return;\n",
              "      }\n",
              "      const div = document.createElement('div');\n",
              "      const label = document.createElement('label');\n",
              "      label.textContent = `Downloading \"${filename}\": `;\n",
              "      div.appendChild(label);\n",
              "      const progress = document.createElement('progress');\n",
              "      progress.max = size;\n",
              "      div.appendChild(progress);\n",
              "      document.body.appendChild(div);\n",
              "\n",
              "      const buffers = [];\n",
              "      let downloaded = 0;\n",
              "\n",
              "      const channel = await google.colab.kernel.comms.open(id);\n",
              "      // Send a message to notify the kernel that we're ready.\n",
              "      channel.send({})\n",
              "\n",
              "      for await (const message of channel.messages) {\n",
              "        // Send a message to notify the kernel that we're ready.\n",
              "        channel.send({})\n",
              "        if (message.buffers) {\n",
              "          for (const buffer of message.buffers) {\n",
              "            buffers.push(buffer);\n",
              "            downloaded += buffer.byteLength;\n",
              "            progress.value = downloaded;\n",
              "          }\n",
              "        }\n",
              "      }\n",
              "      const blob = new Blob(buffers, {type: 'application/binary'});\n",
              "      const a = document.createElement('a');\n",
              "      a.href = window.URL.createObjectURL(blob);\n",
              "      a.download = filename;\n",
              "      div.appendChild(a);\n",
              "      a.click();\n",
              "      div.remove();\n",
              "    }\n",
              "  "
            ]
          },
          "metadata": {}
        },
        {
          "output_type": "display_data",
          "data": {
            "text/plain": [
              "<IPython.core.display.Javascript object>"
            ],
            "application/javascript": [
              "download(\"download_de25709a-49b3-4132-8b16-a131a8030b05\", \"text10.csv\", 2070)"
            ]
          },
          "metadata": {}
        },
        {
          "output_type": "display_data",
          "data": {
            "text/plain": [
              "<IPython.core.display.Javascript object>"
            ],
            "application/javascript": [
              "\n",
              "    async function download(id, filename, size) {\n",
              "      if (!google.colab.kernel.accessAllowed) {\n",
              "        return;\n",
              "      }\n",
              "      const div = document.createElement('div');\n",
              "      const label = document.createElement('label');\n",
              "      label.textContent = `Downloading \"${filename}\": `;\n",
              "      div.appendChild(label);\n",
              "      const progress = document.createElement('progress');\n",
              "      progress.max = size;\n",
              "      div.appendChild(progress);\n",
              "      document.body.appendChild(div);\n",
              "\n",
              "      const buffers = [];\n",
              "      let downloaded = 0;\n",
              "\n",
              "      const channel = await google.colab.kernel.comms.open(id);\n",
              "      // Send a message to notify the kernel that we're ready.\n",
              "      channel.send({})\n",
              "\n",
              "      for await (const message of channel.messages) {\n",
              "        // Send a message to notify the kernel that we're ready.\n",
              "        channel.send({})\n",
              "        if (message.buffers) {\n",
              "          for (const buffer of message.buffers) {\n",
              "            buffers.push(buffer);\n",
              "            downloaded += buffer.byteLength;\n",
              "            progress.value = downloaded;\n",
              "          }\n",
              "        }\n",
              "      }\n",
              "      const blob = new Blob(buffers, {type: 'application/binary'});\n",
              "      const a = document.createElement('a');\n",
              "      a.href = window.URL.createObjectURL(blob);\n",
              "      a.download = filename;\n",
              "      div.appendChild(a);\n",
              "      a.click();\n",
              "      div.remove();\n",
              "    }\n",
              "  "
            ]
          },
          "metadata": {}
        },
        {
          "output_type": "display_data",
          "data": {
            "text/plain": [
              "<IPython.core.display.Javascript object>"
            ],
            "application/javascript": [
              "download(\"download_abe79975-eea6-43da-8050-be81ca717920\", \"text100.csv\", 1653)"
            ]
          },
          "metadata": {}
        },
        {
          "output_type": "display_data",
          "data": {
            "text/plain": [
              "<IPython.core.display.Javascript object>"
            ],
            "application/javascript": [
              "\n",
              "    async function download(id, filename, size) {\n",
              "      if (!google.colab.kernel.accessAllowed) {\n",
              "        return;\n",
              "      }\n",
              "      const div = document.createElement('div');\n",
              "      const label = document.createElement('label');\n",
              "      label.textContent = `Downloading \"${filename}\": `;\n",
              "      div.appendChild(label);\n",
              "      const progress = document.createElement('progress');\n",
              "      progress.max = size;\n",
              "      div.appendChild(progress);\n",
              "      document.body.appendChild(div);\n",
              "\n",
              "      const buffers = [];\n",
              "      let downloaded = 0;\n",
              "\n",
              "      const channel = await google.colab.kernel.comms.open(id);\n",
              "      // Send a message to notify the kernel that we're ready.\n",
              "      channel.send({})\n",
              "\n",
              "      for await (const message of channel.messages) {\n",
              "        // Send a message to notify the kernel that we're ready.\n",
              "        channel.send({})\n",
              "        if (message.buffers) {\n",
              "          for (const buffer of message.buffers) {\n",
              "            buffers.push(buffer);\n",
              "            downloaded += buffer.byteLength;\n",
              "            progress.value = downloaded;\n",
              "          }\n",
              "        }\n",
              "      }\n",
              "      const blob = new Blob(buffers, {type: 'application/binary'});\n",
              "      const a = document.createElement('a');\n",
              "      a.href = window.URL.createObjectURL(blob);\n",
              "      a.download = filename;\n",
              "      div.appendChild(a);\n",
              "      a.click();\n",
              "      div.remove();\n",
              "    }\n",
              "  "
            ]
          },
          "metadata": {}
        },
        {
          "output_type": "display_data",
          "data": {
            "text/plain": [
              "<IPython.core.display.Javascript object>"
            ],
            "application/javascript": [
              "download(\"download_1ef54978-38ef-46a3-a8ce-a78adb175328\", \"text101.csv\", 1792)"
            ]
          },
          "metadata": {}
        },
        {
          "output_type": "display_data",
          "data": {
            "text/plain": [
              "<IPython.core.display.Javascript object>"
            ],
            "application/javascript": [
              "\n",
              "    async function download(id, filename, size) {\n",
              "      if (!google.colab.kernel.accessAllowed) {\n",
              "        return;\n",
              "      }\n",
              "      const div = document.createElement('div');\n",
              "      const label = document.createElement('label');\n",
              "      label.textContent = `Downloading \"${filename}\": `;\n",
              "      div.appendChild(label);\n",
              "      const progress = document.createElement('progress');\n",
              "      progress.max = size;\n",
              "      div.appendChild(progress);\n",
              "      document.body.appendChild(div);\n",
              "\n",
              "      const buffers = [];\n",
              "      let downloaded = 0;\n",
              "\n",
              "      const channel = await google.colab.kernel.comms.open(id);\n",
              "      // Send a message to notify the kernel that we're ready.\n",
              "      channel.send({})\n",
              "\n",
              "      for await (const message of channel.messages) {\n",
              "        // Send a message to notify the kernel that we're ready.\n",
              "        channel.send({})\n",
              "        if (message.buffers) {\n",
              "          for (const buffer of message.buffers) {\n",
              "            buffers.push(buffer);\n",
              "            downloaded += buffer.byteLength;\n",
              "            progress.value = downloaded;\n",
              "          }\n",
              "        }\n",
              "      }\n",
              "      const blob = new Blob(buffers, {type: 'application/binary'});\n",
              "      const a = document.createElement('a');\n",
              "      a.href = window.URL.createObjectURL(blob);\n",
              "      a.download = filename;\n",
              "      div.appendChild(a);\n",
              "      a.click();\n",
              "      div.remove();\n",
              "    }\n",
              "  "
            ]
          },
          "metadata": {}
        },
        {
          "output_type": "display_data",
          "data": {
            "text/plain": [
              "<IPython.core.display.Javascript object>"
            ],
            "application/javascript": [
              "download(\"download_815b5537-0726-4be9-b0bc-eedb3f971b58\", \"text102.csv\", 2126)"
            ]
          },
          "metadata": {}
        },
        {
          "output_type": "display_data",
          "data": {
            "text/plain": [
              "<IPython.core.display.Javascript object>"
            ],
            "application/javascript": [
              "\n",
              "    async function download(id, filename, size) {\n",
              "      if (!google.colab.kernel.accessAllowed) {\n",
              "        return;\n",
              "      }\n",
              "      const div = document.createElement('div');\n",
              "      const label = document.createElement('label');\n",
              "      label.textContent = `Downloading \"${filename}\": `;\n",
              "      div.appendChild(label);\n",
              "      const progress = document.createElement('progress');\n",
              "      progress.max = size;\n",
              "      div.appendChild(progress);\n",
              "      document.body.appendChild(div);\n",
              "\n",
              "      const buffers = [];\n",
              "      let downloaded = 0;\n",
              "\n",
              "      const channel = await google.colab.kernel.comms.open(id);\n",
              "      // Send a message to notify the kernel that we're ready.\n",
              "      channel.send({})\n",
              "\n",
              "      for await (const message of channel.messages) {\n",
              "        // Send a message to notify the kernel that we're ready.\n",
              "        channel.send({})\n",
              "        if (message.buffers) {\n",
              "          for (const buffer of message.buffers) {\n",
              "            buffers.push(buffer);\n",
              "            downloaded += buffer.byteLength;\n",
              "            progress.value = downloaded;\n",
              "          }\n",
              "        }\n",
              "      }\n",
              "      const blob = new Blob(buffers, {type: 'application/binary'});\n",
              "      const a = document.createElement('a');\n",
              "      a.href = window.URL.createObjectURL(blob);\n",
              "      a.download = filename;\n",
              "      div.appendChild(a);\n",
              "      a.click();\n",
              "      div.remove();\n",
              "    }\n",
              "  "
            ]
          },
          "metadata": {}
        },
        {
          "output_type": "display_data",
          "data": {
            "text/plain": [
              "<IPython.core.display.Javascript object>"
            ],
            "application/javascript": [
              "download(\"download_6adb0635-8710-48ca-9b49-5d09508344a3\", \"text103.csv\", 2227)"
            ]
          },
          "metadata": {}
        },
        {
          "output_type": "display_data",
          "data": {
            "text/plain": [
              "<IPython.core.display.Javascript object>"
            ],
            "application/javascript": [
              "\n",
              "    async function download(id, filename, size) {\n",
              "      if (!google.colab.kernel.accessAllowed) {\n",
              "        return;\n",
              "      }\n",
              "      const div = document.createElement('div');\n",
              "      const label = document.createElement('label');\n",
              "      label.textContent = `Downloading \"${filename}\": `;\n",
              "      div.appendChild(label);\n",
              "      const progress = document.createElement('progress');\n",
              "      progress.max = size;\n",
              "      div.appendChild(progress);\n",
              "      document.body.appendChild(div);\n",
              "\n",
              "      const buffers = [];\n",
              "      let downloaded = 0;\n",
              "\n",
              "      const channel = await google.colab.kernel.comms.open(id);\n",
              "      // Send a message to notify the kernel that we're ready.\n",
              "      channel.send({})\n",
              "\n",
              "      for await (const message of channel.messages) {\n",
              "        // Send a message to notify the kernel that we're ready.\n",
              "        channel.send({})\n",
              "        if (message.buffers) {\n",
              "          for (const buffer of message.buffers) {\n",
              "            buffers.push(buffer);\n",
              "            downloaded += buffer.byteLength;\n",
              "            progress.value = downloaded;\n",
              "          }\n",
              "        }\n",
              "      }\n",
              "      const blob = new Blob(buffers, {type: 'application/binary'});\n",
              "      const a = document.createElement('a');\n",
              "      a.href = window.URL.createObjectURL(blob);\n",
              "      a.download = filename;\n",
              "      div.appendChild(a);\n",
              "      a.click();\n",
              "      div.remove();\n",
              "    }\n",
              "  "
            ]
          },
          "metadata": {}
        },
        {
          "output_type": "display_data",
          "data": {
            "text/plain": [
              "<IPython.core.display.Javascript object>"
            ],
            "application/javascript": [
              "download(\"download_4505de7a-1708-4211-b1dd-890a03554c77\", \"text104.csv\", 2006)"
            ]
          },
          "metadata": {}
        },
        {
          "output_type": "display_data",
          "data": {
            "text/plain": [
              "<IPython.core.display.Javascript object>"
            ],
            "application/javascript": [
              "\n",
              "    async function download(id, filename, size) {\n",
              "      if (!google.colab.kernel.accessAllowed) {\n",
              "        return;\n",
              "      }\n",
              "      const div = document.createElement('div');\n",
              "      const label = document.createElement('label');\n",
              "      label.textContent = `Downloading \"${filename}\": `;\n",
              "      div.appendChild(label);\n",
              "      const progress = document.createElement('progress');\n",
              "      progress.max = size;\n",
              "      div.appendChild(progress);\n",
              "      document.body.appendChild(div);\n",
              "\n",
              "      const buffers = [];\n",
              "      let downloaded = 0;\n",
              "\n",
              "      const channel = await google.colab.kernel.comms.open(id);\n",
              "      // Send a message to notify the kernel that we're ready.\n",
              "      channel.send({})\n",
              "\n",
              "      for await (const message of channel.messages) {\n",
              "        // Send a message to notify the kernel that we're ready.\n",
              "        channel.send({})\n",
              "        if (message.buffers) {\n",
              "          for (const buffer of message.buffers) {\n",
              "            buffers.push(buffer);\n",
              "            downloaded += buffer.byteLength;\n",
              "            progress.value = downloaded;\n",
              "          }\n",
              "        }\n",
              "      }\n",
              "      const blob = new Blob(buffers, {type: 'application/binary'});\n",
              "      const a = document.createElement('a');\n",
              "      a.href = window.URL.createObjectURL(blob);\n",
              "      a.download = filename;\n",
              "      div.appendChild(a);\n",
              "      a.click();\n",
              "      div.remove();\n",
              "    }\n",
              "  "
            ]
          },
          "metadata": {}
        },
        {
          "output_type": "display_data",
          "data": {
            "text/plain": [
              "<IPython.core.display.Javascript object>"
            ],
            "application/javascript": [
              "download(\"download_cc7290bf-56c2-4c9e-a46f-424bdfc18706\", \"text105.csv\", 1902)"
            ]
          },
          "metadata": {}
        }
      ]
    },
    {
      "cell_type": "code",
      "source": [
        "files.download('words.csv')"
      ],
      "metadata": {
        "colab": {
          "base_uri": "https://localhost:8080/",
          "height": 17
        },
        "id": "DPyuVfeg1UCX",
        "outputId": "63ec97de-963c-4362-8264-b0e3a2861f84"
      },
      "execution_count": 32,
      "outputs": [
        {
          "output_type": "display_data",
          "data": {
            "text/plain": [
              "<IPython.core.display.Javascript object>"
            ],
            "application/javascript": [
              "\n",
              "    async function download(id, filename, size) {\n",
              "      if (!google.colab.kernel.accessAllowed) {\n",
              "        return;\n",
              "      }\n",
              "      const div = document.createElement('div');\n",
              "      const label = document.createElement('label');\n",
              "      label.textContent = `Downloading \"${filename}\": `;\n",
              "      div.appendChild(label);\n",
              "      const progress = document.createElement('progress');\n",
              "      progress.max = size;\n",
              "      div.appendChild(progress);\n",
              "      document.body.appendChild(div);\n",
              "\n",
              "      const buffers = [];\n",
              "      let downloaded = 0;\n",
              "\n",
              "      const channel = await google.colab.kernel.comms.open(id);\n",
              "      // Send a message to notify the kernel that we're ready.\n",
              "      channel.send({})\n",
              "\n",
              "      for await (const message of channel.messages) {\n",
              "        // Send a message to notify the kernel that we're ready.\n",
              "        channel.send({})\n",
              "        if (message.buffers) {\n",
              "          for (const buffer of message.buffers) {\n",
              "            buffers.push(buffer);\n",
              "            downloaded += buffer.byteLength;\n",
              "            progress.value = downloaded;\n",
              "          }\n",
              "        }\n",
              "      }\n",
              "      const blob = new Blob(buffers, {type: 'application/binary'});\n",
              "      const a = document.createElement('a');\n",
              "      a.href = window.URL.createObjectURL(blob);\n",
              "      a.download = filename;\n",
              "      div.appendChild(a);\n",
              "      a.click();\n",
              "      div.remove();\n",
              "    }\n",
              "  "
            ]
          },
          "metadata": {}
        },
        {
          "output_type": "display_data",
          "data": {
            "text/plain": [
              "<IPython.core.display.Javascript object>"
            ],
            "application/javascript": [
              "download(\"download_2c913298-4d92-46e0-8641-05295dfb6cdb\", \"words.csv\", 498930)"
            ]
          },
          "metadata": {}
        }
      ]
    },
    {
      "cell_type": "code",
      "source": [
        "main_function(new_author_list, dict_authors, base_link, 25, 30)"
      ],
      "metadata": {
        "id": "DzTb-MpuapNQ"
      },
      "execution_count": null,
      "outputs": []
    },
    {
      "cell_type": "code",
      "source": [],
      "metadata": {
        "id": "cqdTcmxGs3_C"
      },
      "execution_count": null,
      "outputs": []
    },
    {
      "cell_type": "markdown",
      "source": [
        "Мусорка (не прям мусорка - но код на этапе его усовершенствования)"
      ],
      "metadata": {
        "id": "iu2uBzU5oUb_"
      }
    },
    {
      "cell_type": "code",
      "source": [],
      "metadata": {
        "id": "IhDkn324s4CX"
      },
      "execution_count": null,
      "outputs": []
    },
    {
      "cell_type": "code",
      "source": [
        "words_list = []\n",
        "for author in new_author_list[:8]:\n",
        "    list_texts = dict_authors[author] # list of all author's titles\n",
        "    nmb_text = 1\n",
        "    for text in list_texts:\n",
        "        sents_list = [] #list of all dicts with sentences and its numbers of one text\n",
        "        link = base_link + '/' + author + text\n",
        "        book_author, book_title, text = get_text(link)\n",
        "        if book_author != -1:\n",
        "            nmb_words = 0\n",
        "            nmb_sent = 1\n",
        "            for sent in sent_tokenize(text):\n",
        "                words = word_tokenize(sent)\n",
        "                words = [w for w in words if w.isalpha()]\n",
        "                if words != []:\n",
        "                    nmb_word = 1\n",
        "                    for word in words:\n",
        "                        ana = morph.parse(word)[0]\n",
        "                        words_list.append({'word': ana.word, 'lemma': ana.normal_form, 'pos': ana.tag.POS, 'nmb_text': nmb_text, 'nmb_sent': nmb_sent, 'nmb_word': nmb_word})\n",
        "                        nmb_word += 1\n",
        "                    nmb_words += nmb_word\n",
        "                    sents_list.append({'sentence': sent, 'nmb_sent': nmb_sent, 'author':book_author, 'title':book_title})\n",
        "                    nmb_sent += 1\n",
        "                    if nmb_words >= 100:\n",
        "                        break\n",
        "            sent_df = pd.DataFrame(sents_list)\n",
        "            file_name = 'text' + str(nmb_text) +'.csv'\n",
        "            sent_df.to_csv(file_name, encoding='utf-8')\n",
        "            nmb_text += 1\n",
        "        else:\n",
        "            continue"
      ],
      "metadata": {
        "id": "oqfCS5-fiknZ",
        "colab": {
          "base_uri": "https://localhost:8080/"
        },
        "outputId": "0ff2e8b2-d2b8-43d6-f13a-1e1a0f4bc806"
      },
      "execution_count": null,
      "outputs": [
        {
          "output_type": "stream",
          "name": "stdout",
          "text": [
            "['/RUSS_DETEKTIW/BAKUNIN/leviafan.txt']\n",
            "['Марианна Баконина: об авторе']\n",
            "['Copyright notice']\n",
            "['Copyright notice']\n"
          ]
        }
      ]
    },
    {
      "cell_type": "code",
      "source": [
        "for author in new_author_list[8:16]:\n",
        "    list_texts = dict_authors[author] # list of all author's titles\n",
        "    for text in list_texts:\n",
        "        sents_list = [] #list of all dicts with sentences and its numbers of one text\n",
        "        link = base_link + '/' + author + text\n",
        "        book_author, book_title, text = get_text(link)\n",
        "        if book_author != -1:\n",
        "            nmb_words = 0\n",
        "            nmb_sent = 1\n",
        "            for sent in sent_tokenize(text):\n",
        "                nmb_word = 1\n",
        "                words = word_tokenize(sent)\n",
        "                words = [w for w in words if w.isalpha()]\n",
        "                for word in words:\n",
        "                    ana = morph.parse(word)[0]\n",
        "                    words_list.append({'word': ana.word, 'lemma': ana.normal_form, 'pos': ana.tag.POS, 'nmb_text': nmb_text, 'nmb_sent': nmb_sent, 'nmb_word': nmb_word})\n",
        "                    nmb_word += 1\n",
        "                nmb_words += nmb_word\n",
        "                sents_list.append({'sentence': sent, 'nmb_sent': nmb_sent, 'author':book_author, 'title':book_title})\n",
        "                nmb_sent += 1\n",
        "                if nmb_words >= 100:\n",
        "                    break\n",
        "            sent_df = pd.DataFrame(sents_list)\n",
        "            file_name = 'text' + str(nmb_text) +'.csv'\n",
        "            sent_df.to_csv(file_name, encoding='utf-8')\n",
        "            nmb_text += 1\n",
        "        else:\n",
        "            continue"
      ],
      "metadata": {
        "id": "-FwJQ5O72V7w"
      },
      "execution_count": null,
      "outputs": []
    },
    {
      "cell_type": "code",
      "source": [
        "for author in new_author_list[16:24]:\n",
        "    list_texts = dict_authors[author] # list of all author's titles\n",
        "    for text in list_texts:\n",
        "        sents_list = [] #list of all dicts with sentences and its numbers of one text\n",
        "        link = base_link + '/' + author + text\n",
        "        book_author, book_title, text = get_text(link)\n",
        "        if book_author != -1:\n",
        "            nmb_words = 0\n",
        "            nmb_sent = 1\n",
        "            for sent in sent_tokenize(text):\n",
        "                nmb_word = 1\n",
        "                words = word_tokenize(sent)\n",
        "                words = [w for w in words if w.isalpha()]\n",
        "                for word in words:\n",
        "                    ana = morph.parse(word)[0]\n",
        "                    words_list.append({'word': ana.word, 'lemma': ana.normal_form, 'pos': ana.tag.POS, 'nmb_text': nmb_text, 'nmb_sent': nmb_sent, 'nmb_word': nmb_word})\n",
        "                    nmb_word += 1\n",
        "                nmb_words += nmb_word\n",
        "                sents_list.append({'sentence': sent, 'nmb_sent': nmb_sent, 'author':book_author, 'title':book_title})\n",
        "                nmb_sent += 1\n",
        "                if nmb_words >= 100:\n",
        "                    break\n",
        "            sent_df = pd.DataFrame(sents_list)\n",
        "            file_name = 'text' + str(nmb_text) +'.csv'\n",
        "            sent_df.to_csv(file_name, encoding='utf-8')\n",
        "            nmb_text += 1\n",
        "        else:\n",
        "            continue"
      ],
      "metadata": {
        "colab": {
          "base_uri": "https://localhost:8080/"
        },
        "id": "_QxsChv22mdS",
        "outputId": "94497c46-21f6-4eab-838b-01a4f6a31233"
      },
      "execution_count": null,
      "outputs": [
        {
          "output_type": "stream",
          "name": "stdout",
          "text": [
            "['/RUSS_DETEKTIW/MIHAJLIK/black.txt']\n",
            "['Чужаки']\n"
          ]
        }
      ]
    },
    {
      "cell_type": "code",
      "source": [
        "for author in new_author_list[24:32]:\n",
        "    list_texts = dict_authors[author] # list of all author's titles\n",
        "    for text in list_texts:\n",
        "        sents_list = [] #list of all dicts with sentences and its numbers of one text\n",
        "        link = base_link + '/' + author + text\n",
        "        book_author, book_title, text = get_text(link)\n",
        "        if book_author != -1:\n",
        "            nmb_words = 0\n",
        "            nmb_sent = 1\n",
        "            for sent in sent_tokenize(text):\n",
        "                nmb_word = 1\n",
        "                words = word_tokenize(sent)\n",
        "                words = [w for w in words if w.isalpha()]\n",
        "                for word in words:\n",
        "                    ana = morph.parse(word)[0]\n",
        "                    words_list.append({'word': ana.word, 'lemma': ana.normal_form, 'pos': ana.tag.POS, 'nmb_text': nmb_text, 'nmb_sent': nmb_sent, 'nmb_word': nmb_word})\n",
        "                    nmb_word += 1\n",
        "                nmb_words += nmb_word\n",
        "                sents_list.append({'sentence': sent, 'nmb_sent': nmb_sent, 'author':book_author, 'title':book_title})\n",
        "                nmb_sent += 1\n",
        "                if nmb_words >= 100:\n",
        "                    break\n",
        "            sent_df = pd.DataFrame(sents_list)\n",
        "            file_name = 'text' + str(nmb_text) +'.csv'\n",
        "            sent_df.to_csv(file_name, encoding='utf-8')\n",
        "            nmb_text += 1\n",
        "        else:\n",
        "            continue"
      ],
      "metadata": {
        "colab": {
          "base_uri": "https://localhost:8080/"
        },
        "id": "GnH4-met3MJI",
        "outputId": "cee374ff-58d5-4e2d-bbc1-165e95e5bf64"
      },
      "execution_count": null,
      "outputs": [
        {
          "output_type": "stream",
          "name": "stdout",
          "text": [
            "['Copyright notice']\n",
            "['Евгения Кукаркина: библиография']\n"
          ]
        }
      ]
    },
    {
      "cell_type": "code",
      "source": [
        "for author in new_author_list[32:33]:\n",
        "    list_texts = dict_authors[author] # list of all author's titles\n",
        "    for text in list_texts:\n",
        "        sents_list = [] #list of all dicts with sentences and its numbers of one text\n",
        "        link = base_link + '/' + author + text\n",
        "        book_author, book_title, text = get_text(link)\n",
        "        if book_author != -1:\n",
        "            nmb_words = 0\n",
        "            nmb_sent = 1\n",
        "            for sent in sent_tokenize(text):\n",
        "                nmb_word = 1\n",
        "                words = word_tokenize(sent)\n",
        "                words = [w for w in words if w.isalpha()]\n",
        "                for word in words:\n",
        "                    ana = morph.parse(word)[0]\n",
        "                    words_list.append({'word': ana.word, 'lemma': ana.normal_form, 'pos': ana.tag.POS, 'nmb_text': nmb_text, 'nmb_sent': nmb_sent, 'nmb_word': nmb_word})\n",
        "                    nmb_word += 1\n",
        "                nmb_words += nmb_word\n",
        "                sents_list.append({'sentence': sent, 'nmb_sent': nmb_sent, 'author':book_author, 'title':book_title})\n",
        "                nmb_sent += 1\n",
        "                if nmb_words >= 100:\n",
        "                    break\n",
        "            sent_df = pd.DataFrame(sents_list)\n",
        "            file_name = 'text' + str(nmb_text) +'.csv'\n",
        "            sent_df.to_csv(file_name, encoding='utf-8')\n",
        "            nmb_text += 1\n",
        "        else:\n",
        "            continue"
      ],
      "metadata": {
        "colab": {
          "base_uri": "https://localhost:8080/"
        },
        "id": "tpSFUuZV3ecA",
        "outputId": "240a718d-a5d1-483a-cfc7-c735027a6c00"
      },
      "execution_count": null,
      "outputs": [
        {
          "output_type": "stream",
          "name": "stdout",
          "text": [
            "['\"Слагать из встречных лиц один портрет...\"(Интервью с писателем Раулем Мир-Хайдаровым)']\n",
            "['Кто ничего не умеет, тот не должен ничего хотеть...Интервью Арынгазы Беркинбаева с Раулем Мир-Хайдаровым специально для Казахстана, в год юбилея писателя']\n"
          ]
        }
      ]
    },
    {
      "cell_type": "code",
      "source": [
        "lst_nmb = [4, 7, 8, 12, 13, 39, 40, 52, 53, 66, 67, 68, 69, 80, 81, 82, 83, 120]"
      ],
      "metadata": {
        "id": "OlVCCnCx82Lh"
      },
      "execution_count": null,
      "outputs": []
    },
    {
      "cell_type": "code",
      "source": [
        "for i in lst_nmb:\n",
        "    f = 'text' + str(i) + '.csv'\n",
        "    files.download(f)"
      ],
      "metadata": {
        "colab": {
          "base_uri": "https://localhost:8080/",
          "height": 17
        },
        "id": "apaSbtED9T9K",
        "outputId": "380e9d96-7696-42fd-85cc-021fcff6f6a9"
      },
      "execution_count": null,
      "outputs": [
        {
          "output_type": "display_data",
          "data": {
            "text/plain": [
              "<IPython.core.display.Javascript object>"
            ],
            "application/javascript": [
              "\n",
              "    async function download(id, filename, size) {\n",
              "      if (!google.colab.kernel.accessAllowed) {\n",
              "        return;\n",
              "      }\n",
              "      const div = document.createElement('div');\n",
              "      const label = document.createElement('label');\n",
              "      label.textContent = `Downloading \"${filename}\": `;\n",
              "      div.appendChild(label);\n",
              "      const progress = document.createElement('progress');\n",
              "      progress.max = size;\n",
              "      div.appendChild(progress);\n",
              "      document.body.appendChild(div);\n",
              "\n",
              "      const buffers = [];\n",
              "      let downloaded = 0;\n",
              "\n",
              "      const channel = await google.colab.kernel.comms.open(id);\n",
              "      // Send a message to notify the kernel that we're ready.\n",
              "      channel.send({})\n",
              "\n",
              "      for await (const message of channel.messages) {\n",
              "        // Send a message to notify the kernel that we're ready.\n",
              "        channel.send({})\n",
              "        if (message.buffers) {\n",
              "          for (const buffer of message.buffers) {\n",
              "            buffers.push(buffer);\n",
              "            downloaded += buffer.byteLength;\n",
              "            progress.value = downloaded;\n",
              "          }\n",
              "        }\n",
              "      }\n",
              "      const blob = new Blob(buffers, {type: 'application/binary'});\n",
              "      const a = document.createElement('a');\n",
              "      a.href = window.URL.createObjectURL(blob);\n",
              "      a.download = filename;\n",
              "      div.appendChild(a);\n",
              "      a.click();\n",
              "      div.remove();\n",
              "    }\n",
              "  "
            ]
          },
          "metadata": {}
        },
        {
          "output_type": "display_data",
          "data": {
            "text/plain": [
              "<IPython.core.display.Javascript object>"
            ],
            "application/javascript": [
              "download(\"download_41006bd9-ab1c-453b-9e18-ae0fd6ea8ea2\", \"text4.csv\", 2150)"
            ]
          },
          "metadata": {}
        },
        {
          "output_type": "display_data",
          "data": {
            "text/plain": [
              "<IPython.core.display.Javascript object>"
            ],
            "application/javascript": [
              "\n",
              "    async function download(id, filename, size) {\n",
              "      if (!google.colab.kernel.accessAllowed) {\n",
              "        return;\n",
              "      }\n",
              "      const div = document.createElement('div');\n",
              "      const label = document.createElement('label');\n",
              "      label.textContent = `Downloading \"${filename}\": `;\n",
              "      div.appendChild(label);\n",
              "      const progress = document.createElement('progress');\n",
              "      progress.max = size;\n",
              "      div.appendChild(progress);\n",
              "      document.body.appendChild(div);\n",
              "\n",
              "      const buffers = [];\n",
              "      let downloaded = 0;\n",
              "\n",
              "      const channel = await google.colab.kernel.comms.open(id);\n",
              "      // Send a message to notify the kernel that we're ready.\n",
              "      channel.send({})\n",
              "\n",
              "      for await (const message of channel.messages) {\n",
              "        // Send a message to notify the kernel that we're ready.\n",
              "        channel.send({})\n",
              "        if (message.buffers) {\n",
              "          for (const buffer of message.buffers) {\n",
              "            buffers.push(buffer);\n",
              "            downloaded += buffer.byteLength;\n",
              "            progress.value = downloaded;\n",
              "          }\n",
              "        }\n",
              "      }\n",
              "      const blob = new Blob(buffers, {type: 'application/binary'});\n",
              "      const a = document.createElement('a');\n",
              "      a.href = window.URL.createObjectURL(blob);\n",
              "      a.download = filename;\n",
              "      div.appendChild(a);\n",
              "      a.click();\n",
              "      div.remove();\n",
              "    }\n",
              "  "
            ]
          },
          "metadata": {}
        },
        {
          "output_type": "display_data",
          "data": {
            "text/plain": [
              "<IPython.core.display.Javascript object>"
            ],
            "application/javascript": [
              "download(\"download_9a41c5f0-716e-48c5-87b2-1fcbe888ed9a\", \"text7.csv\", 2985)"
            ]
          },
          "metadata": {}
        },
        {
          "output_type": "display_data",
          "data": {
            "text/plain": [
              "<IPython.core.display.Javascript object>"
            ],
            "application/javascript": [
              "\n",
              "    async function download(id, filename, size) {\n",
              "      if (!google.colab.kernel.accessAllowed) {\n",
              "        return;\n",
              "      }\n",
              "      const div = document.createElement('div');\n",
              "      const label = document.createElement('label');\n",
              "      label.textContent = `Downloading \"${filename}\": `;\n",
              "      div.appendChild(label);\n",
              "      const progress = document.createElement('progress');\n",
              "      progress.max = size;\n",
              "      div.appendChild(progress);\n",
              "      document.body.appendChild(div);\n",
              "\n",
              "      const buffers = [];\n",
              "      let downloaded = 0;\n",
              "\n",
              "      const channel = await google.colab.kernel.comms.open(id);\n",
              "      // Send a message to notify the kernel that we're ready.\n",
              "      channel.send({})\n",
              "\n",
              "      for await (const message of channel.messages) {\n",
              "        // Send a message to notify the kernel that we're ready.\n",
              "        channel.send({})\n",
              "        if (message.buffers) {\n",
              "          for (const buffer of message.buffers) {\n",
              "            buffers.push(buffer);\n",
              "            downloaded += buffer.byteLength;\n",
              "            progress.value = downloaded;\n",
              "          }\n",
              "        }\n",
              "      }\n",
              "      const blob = new Blob(buffers, {type: 'application/binary'});\n",
              "      const a = document.createElement('a');\n",
              "      a.href = window.URL.createObjectURL(blob);\n",
              "      a.download = filename;\n",
              "      div.appendChild(a);\n",
              "      a.click();\n",
              "      div.remove();\n",
              "    }\n",
              "  "
            ]
          },
          "metadata": {}
        },
        {
          "output_type": "display_data",
          "data": {
            "text/plain": [
              "<IPython.core.display.Javascript object>"
            ],
            "application/javascript": [
              "download(\"download_30d40569-cdd5-429e-af9a-8fa6108e7b48\", \"text8.csv\", 3694)"
            ]
          },
          "metadata": {}
        },
        {
          "output_type": "display_data",
          "data": {
            "text/plain": [
              "<IPython.core.display.Javascript object>"
            ],
            "application/javascript": [
              "\n",
              "    async function download(id, filename, size) {\n",
              "      if (!google.colab.kernel.accessAllowed) {\n",
              "        return;\n",
              "      }\n",
              "      const div = document.createElement('div');\n",
              "      const label = document.createElement('label');\n",
              "      label.textContent = `Downloading \"${filename}\": `;\n",
              "      div.appendChild(label);\n",
              "      const progress = document.createElement('progress');\n",
              "      progress.max = size;\n",
              "      div.appendChild(progress);\n",
              "      document.body.appendChild(div);\n",
              "\n",
              "      const buffers = [];\n",
              "      let downloaded = 0;\n",
              "\n",
              "      const channel = await google.colab.kernel.comms.open(id);\n",
              "      // Send a message to notify the kernel that we're ready.\n",
              "      channel.send({})\n",
              "\n",
              "      for await (const message of channel.messages) {\n",
              "        // Send a message to notify the kernel that we're ready.\n",
              "        channel.send({})\n",
              "        if (message.buffers) {\n",
              "          for (const buffer of message.buffers) {\n",
              "            buffers.push(buffer);\n",
              "            downloaded += buffer.byteLength;\n",
              "            progress.value = downloaded;\n",
              "          }\n",
              "        }\n",
              "      }\n",
              "      const blob = new Blob(buffers, {type: 'application/binary'});\n",
              "      const a = document.createElement('a');\n",
              "      a.href = window.URL.createObjectURL(blob);\n",
              "      a.download = filename;\n",
              "      div.appendChild(a);\n",
              "      a.click();\n",
              "      div.remove();\n",
              "    }\n",
              "  "
            ]
          },
          "metadata": {}
        },
        {
          "output_type": "display_data",
          "data": {
            "text/plain": [
              "<IPython.core.display.Javascript object>"
            ],
            "application/javascript": [
              "download(\"download_5af40a10-15c6-4a8f-8db5-3cfca8fca5c2\", \"text12.csv\", 2184)"
            ]
          },
          "metadata": {}
        },
        {
          "output_type": "display_data",
          "data": {
            "text/plain": [
              "<IPython.core.display.Javascript object>"
            ],
            "application/javascript": [
              "\n",
              "    async function download(id, filename, size) {\n",
              "      if (!google.colab.kernel.accessAllowed) {\n",
              "        return;\n",
              "      }\n",
              "      const div = document.createElement('div');\n",
              "      const label = document.createElement('label');\n",
              "      label.textContent = `Downloading \"${filename}\": `;\n",
              "      div.appendChild(label);\n",
              "      const progress = document.createElement('progress');\n",
              "      progress.max = size;\n",
              "      div.appendChild(progress);\n",
              "      document.body.appendChild(div);\n",
              "\n",
              "      const buffers = [];\n",
              "      let downloaded = 0;\n",
              "\n",
              "      const channel = await google.colab.kernel.comms.open(id);\n",
              "      // Send a message to notify the kernel that we're ready.\n",
              "      channel.send({})\n",
              "\n",
              "      for await (const message of channel.messages) {\n",
              "        // Send a message to notify the kernel that we're ready.\n",
              "        channel.send({})\n",
              "        if (message.buffers) {\n",
              "          for (const buffer of message.buffers) {\n",
              "            buffers.push(buffer);\n",
              "            downloaded += buffer.byteLength;\n",
              "            progress.value = downloaded;\n",
              "          }\n",
              "        }\n",
              "      }\n",
              "      const blob = new Blob(buffers, {type: 'application/binary'});\n",
              "      const a = document.createElement('a');\n",
              "      a.href = window.URL.createObjectURL(blob);\n",
              "      a.download = filename;\n",
              "      div.appendChild(a);\n",
              "      a.click();\n",
              "      div.remove();\n",
              "    }\n",
              "  "
            ]
          },
          "metadata": {}
        },
        {
          "output_type": "display_data",
          "data": {
            "text/plain": [
              "<IPython.core.display.Javascript object>"
            ],
            "application/javascript": [
              "download(\"download_a35eddce-c35c-4e1c-a0ad-dd5af27f7c13\", \"text13.csv\", 3894)"
            ]
          },
          "metadata": {}
        },
        {
          "output_type": "display_data",
          "data": {
            "text/plain": [
              "<IPython.core.display.Javascript object>"
            ],
            "application/javascript": [
              "\n",
              "    async function download(id, filename, size) {\n",
              "      if (!google.colab.kernel.accessAllowed) {\n",
              "        return;\n",
              "      }\n",
              "      const div = document.createElement('div');\n",
              "      const label = document.createElement('label');\n",
              "      label.textContent = `Downloading \"${filename}\": `;\n",
              "      div.appendChild(label);\n",
              "      const progress = document.createElement('progress');\n",
              "      progress.max = size;\n",
              "      div.appendChild(progress);\n",
              "      document.body.appendChild(div);\n",
              "\n",
              "      const buffers = [];\n",
              "      let downloaded = 0;\n",
              "\n",
              "      const channel = await google.colab.kernel.comms.open(id);\n",
              "      // Send a message to notify the kernel that we're ready.\n",
              "      channel.send({})\n",
              "\n",
              "      for await (const message of channel.messages) {\n",
              "        // Send a message to notify the kernel that we're ready.\n",
              "        channel.send({})\n",
              "        if (message.buffers) {\n",
              "          for (const buffer of message.buffers) {\n",
              "            buffers.push(buffer);\n",
              "            downloaded += buffer.byteLength;\n",
              "            progress.value = downloaded;\n",
              "          }\n",
              "        }\n",
              "      }\n",
              "      const blob = new Blob(buffers, {type: 'application/binary'});\n",
              "      const a = document.createElement('a');\n",
              "      a.href = window.URL.createObjectURL(blob);\n",
              "      a.download = filename;\n",
              "      div.appendChild(a);\n",
              "      a.click();\n",
              "      div.remove();\n",
              "    }\n",
              "  "
            ]
          },
          "metadata": {}
        },
        {
          "output_type": "display_data",
          "data": {
            "text/plain": [
              "<IPython.core.display.Javascript object>"
            ],
            "application/javascript": [
              "download(\"download_13e259a1-97ae-4596-9ee5-342cd3509228\", \"text39.csv\", 3359)"
            ]
          },
          "metadata": {}
        },
        {
          "output_type": "display_data",
          "data": {
            "text/plain": [
              "<IPython.core.display.Javascript object>"
            ],
            "application/javascript": [
              "\n",
              "    async function download(id, filename, size) {\n",
              "      if (!google.colab.kernel.accessAllowed) {\n",
              "        return;\n",
              "      }\n",
              "      const div = document.createElement('div');\n",
              "      const label = document.createElement('label');\n",
              "      label.textContent = `Downloading \"${filename}\": `;\n",
              "      div.appendChild(label);\n",
              "      const progress = document.createElement('progress');\n",
              "      progress.max = size;\n",
              "      div.appendChild(progress);\n",
              "      document.body.appendChild(div);\n",
              "\n",
              "      const buffers = [];\n",
              "      let downloaded = 0;\n",
              "\n",
              "      const channel = await google.colab.kernel.comms.open(id);\n",
              "      // Send a message to notify the kernel that we're ready.\n",
              "      channel.send({})\n",
              "\n",
              "      for await (const message of channel.messages) {\n",
              "        // Send a message to notify the kernel that we're ready.\n",
              "        channel.send({})\n",
              "        if (message.buffers) {\n",
              "          for (const buffer of message.buffers) {\n",
              "            buffers.push(buffer);\n",
              "            downloaded += buffer.byteLength;\n",
              "            progress.value = downloaded;\n",
              "          }\n",
              "        }\n",
              "      }\n",
              "      const blob = new Blob(buffers, {type: 'application/binary'});\n",
              "      const a = document.createElement('a');\n",
              "      a.href = window.URL.createObjectURL(blob);\n",
              "      a.download = filename;\n",
              "      div.appendChild(a);\n",
              "      a.click();\n",
              "      div.remove();\n",
              "    }\n",
              "  "
            ]
          },
          "metadata": {}
        },
        {
          "output_type": "display_data",
          "data": {
            "text/plain": [
              "<IPython.core.display.Javascript object>"
            ],
            "application/javascript": [
              "download(\"download_72af9eb8-fbbe-4461-9a20-7220b7bc73ac\", \"text40.csv\", 2994)"
            ]
          },
          "metadata": {}
        },
        {
          "output_type": "display_data",
          "data": {
            "text/plain": [
              "<IPython.core.display.Javascript object>"
            ],
            "application/javascript": [
              "\n",
              "    async function download(id, filename, size) {\n",
              "      if (!google.colab.kernel.accessAllowed) {\n",
              "        return;\n",
              "      }\n",
              "      const div = document.createElement('div');\n",
              "      const label = document.createElement('label');\n",
              "      label.textContent = `Downloading \"${filename}\": `;\n",
              "      div.appendChild(label);\n",
              "      const progress = document.createElement('progress');\n",
              "      progress.max = size;\n",
              "      div.appendChild(progress);\n",
              "      document.body.appendChild(div);\n",
              "\n",
              "      const buffers = [];\n",
              "      let downloaded = 0;\n",
              "\n",
              "      const channel = await google.colab.kernel.comms.open(id);\n",
              "      // Send a message to notify the kernel that we're ready.\n",
              "      channel.send({})\n",
              "\n",
              "      for await (const message of channel.messages) {\n",
              "        // Send a message to notify the kernel that we're ready.\n",
              "        channel.send({})\n",
              "        if (message.buffers) {\n",
              "          for (const buffer of message.buffers) {\n",
              "            buffers.push(buffer);\n",
              "            downloaded += buffer.byteLength;\n",
              "            progress.value = downloaded;\n",
              "          }\n",
              "        }\n",
              "      }\n",
              "      const blob = new Blob(buffers, {type: 'application/binary'});\n",
              "      const a = document.createElement('a');\n",
              "      a.href = window.URL.createObjectURL(blob);\n",
              "      a.download = filename;\n",
              "      div.appendChild(a);\n",
              "      a.click();\n",
              "      div.remove();\n",
              "    }\n",
              "  "
            ]
          },
          "metadata": {}
        },
        {
          "output_type": "display_data",
          "data": {
            "text/plain": [
              "<IPython.core.display.Javascript object>"
            ],
            "application/javascript": [
              "download(\"download_56b9da18-d43d-43b0-8ad5-f9008146f41b\", \"text52.csv\", 2232)"
            ]
          },
          "metadata": {}
        },
        {
          "output_type": "display_data",
          "data": {
            "text/plain": [
              "<IPython.core.display.Javascript object>"
            ],
            "application/javascript": [
              "\n",
              "    async function download(id, filename, size) {\n",
              "      if (!google.colab.kernel.accessAllowed) {\n",
              "        return;\n",
              "      }\n",
              "      const div = document.createElement('div');\n",
              "      const label = document.createElement('label');\n",
              "      label.textContent = `Downloading \"${filename}\": `;\n",
              "      div.appendChild(label);\n",
              "      const progress = document.createElement('progress');\n",
              "      progress.max = size;\n",
              "      div.appendChild(progress);\n",
              "      document.body.appendChild(div);\n",
              "\n",
              "      const buffers = [];\n",
              "      let downloaded = 0;\n",
              "\n",
              "      const channel = await google.colab.kernel.comms.open(id);\n",
              "      // Send a message to notify the kernel that we're ready.\n",
              "      channel.send({})\n",
              "\n",
              "      for await (const message of channel.messages) {\n",
              "        // Send a message to notify the kernel that we're ready.\n",
              "        channel.send({})\n",
              "        if (message.buffers) {\n",
              "          for (const buffer of message.buffers) {\n",
              "            buffers.push(buffer);\n",
              "            downloaded += buffer.byteLength;\n",
              "            progress.value = downloaded;\n",
              "          }\n",
              "        }\n",
              "      }\n",
              "      const blob = new Blob(buffers, {type: 'application/binary'});\n",
              "      const a = document.createElement('a');\n",
              "      a.href = window.URL.createObjectURL(blob);\n",
              "      a.download = filename;\n",
              "      div.appendChild(a);\n",
              "      a.click();\n",
              "      div.remove();\n",
              "    }\n",
              "  "
            ]
          },
          "metadata": {}
        },
        {
          "output_type": "display_data",
          "data": {
            "text/plain": [
              "<IPython.core.display.Javascript object>"
            ],
            "application/javascript": [
              "download(\"download_3212efb0-8115-4060-958b-21fb4d3209a6\", \"text53.csv\", 2406)"
            ]
          },
          "metadata": {}
        },
        {
          "output_type": "display_data",
          "data": {
            "text/plain": [
              "<IPython.core.display.Javascript object>"
            ],
            "application/javascript": [
              "\n",
              "    async function download(id, filename, size) {\n",
              "      if (!google.colab.kernel.accessAllowed) {\n",
              "        return;\n",
              "      }\n",
              "      const div = document.createElement('div');\n",
              "      const label = document.createElement('label');\n",
              "      label.textContent = `Downloading \"${filename}\": `;\n",
              "      div.appendChild(label);\n",
              "      const progress = document.createElement('progress');\n",
              "      progress.max = size;\n",
              "      div.appendChild(progress);\n",
              "      document.body.appendChild(div);\n",
              "\n",
              "      const buffers = [];\n",
              "      let downloaded = 0;\n",
              "\n",
              "      const channel = await google.colab.kernel.comms.open(id);\n",
              "      // Send a message to notify the kernel that we're ready.\n",
              "      channel.send({})\n",
              "\n",
              "      for await (const message of channel.messages) {\n",
              "        // Send a message to notify the kernel that we're ready.\n",
              "        channel.send({})\n",
              "        if (message.buffers) {\n",
              "          for (const buffer of message.buffers) {\n",
              "            buffers.push(buffer);\n",
              "            downloaded += buffer.byteLength;\n",
              "            progress.value = downloaded;\n",
              "          }\n",
              "        }\n",
              "      }\n",
              "      const blob = new Blob(buffers, {type: 'application/binary'});\n",
              "      const a = document.createElement('a');\n",
              "      a.href = window.URL.createObjectURL(blob);\n",
              "      a.download = filename;\n",
              "      div.appendChild(a);\n",
              "      a.click();\n",
              "      div.remove();\n",
              "    }\n",
              "  "
            ]
          },
          "metadata": {}
        },
        {
          "output_type": "display_data",
          "data": {
            "text/plain": [
              "<IPython.core.display.Javascript object>"
            ],
            "application/javascript": [
              "download(\"download_98f7c256-6d39-460a-9077-bc20136a490c\", \"text66.csv\", 2209)"
            ]
          },
          "metadata": {}
        },
        {
          "output_type": "display_data",
          "data": {
            "text/plain": [
              "<IPython.core.display.Javascript object>"
            ],
            "application/javascript": [
              "\n",
              "    async function download(id, filename, size) {\n",
              "      if (!google.colab.kernel.accessAllowed) {\n",
              "        return;\n",
              "      }\n",
              "      const div = document.createElement('div');\n",
              "      const label = document.createElement('label');\n",
              "      label.textContent = `Downloading \"${filename}\": `;\n",
              "      div.appendChild(label);\n",
              "      const progress = document.createElement('progress');\n",
              "      progress.max = size;\n",
              "      div.appendChild(progress);\n",
              "      document.body.appendChild(div);\n",
              "\n",
              "      const buffers = [];\n",
              "      let downloaded = 0;\n",
              "\n",
              "      const channel = await google.colab.kernel.comms.open(id);\n",
              "      // Send a message to notify the kernel that we're ready.\n",
              "      channel.send({})\n",
              "\n",
              "      for await (const message of channel.messages) {\n",
              "        // Send a message to notify the kernel that we're ready.\n",
              "        channel.send({})\n",
              "        if (message.buffers) {\n",
              "          for (const buffer of message.buffers) {\n",
              "            buffers.push(buffer);\n",
              "            downloaded += buffer.byteLength;\n",
              "            progress.value = downloaded;\n",
              "          }\n",
              "        }\n",
              "      }\n",
              "      const blob = new Blob(buffers, {type: 'application/binary'});\n",
              "      const a = document.createElement('a');\n",
              "      a.href = window.URL.createObjectURL(blob);\n",
              "      a.download = filename;\n",
              "      div.appendChild(a);\n",
              "      a.click();\n",
              "      div.remove();\n",
              "    }\n",
              "  "
            ]
          },
          "metadata": {}
        },
        {
          "output_type": "display_data",
          "data": {
            "text/plain": [
              "<IPython.core.display.Javascript object>"
            ],
            "application/javascript": [
              "download(\"download_c4e6fd44-7cf9-4084-8f44-fa33b8ea947b\", \"text67.csv\", 1970)"
            ]
          },
          "metadata": {}
        },
        {
          "output_type": "display_data",
          "data": {
            "text/plain": [
              "<IPython.core.display.Javascript object>"
            ],
            "application/javascript": [
              "\n",
              "    async function download(id, filename, size) {\n",
              "      if (!google.colab.kernel.accessAllowed) {\n",
              "        return;\n",
              "      }\n",
              "      const div = document.createElement('div');\n",
              "      const label = document.createElement('label');\n",
              "      label.textContent = `Downloading \"${filename}\": `;\n",
              "      div.appendChild(label);\n",
              "      const progress = document.createElement('progress');\n",
              "      progress.max = size;\n",
              "      div.appendChild(progress);\n",
              "      document.body.appendChild(div);\n",
              "\n",
              "      const buffers = [];\n",
              "      let downloaded = 0;\n",
              "\n",
              "      const channel = await google.colab.kernel.comms.open(id);\n",
              "      // Send a message to notify the kernel that we're ready.\n",
              "      channel.send({})\n",
              "\n",
              "      for await (const message of channel.messages) {\n",
              "        // Send a message to notify the kernel that we're ready.\n",
              "        channel.send({})\n",
              "        if (message.buffers) {\n",
              "          for (const buffer of message.buffers) {\n",
              "            buffers.push(buffer);\n",
              "            downloaded += buffer.byteLength;\n",
              "            progress.value = downloaded;\n",
              "          }\n",
              "        }\n",
              "      }\n",
              "      const blob = new Blob(buffers, {type: 'application/binary'});\n",
              "      const a = document.createElement('a');\n",
              "      a.href = window.URL.createObjectURL(blob);\n",
              "      a.download = filename;\n",
              "      div.appendChild(a);\n",
              "      a.click();\n",
              "      div.remove();\n",
              "    }\n",
              "  "
            ]
          },
          "metadata": {}
        },
        {
          "output_type": "display_data",
          "data": {
            "text/plain": [
              "<IPython.core.display.Javascript object>"
            ],
            "application/javascript": [
              "download(\"download_292dd09a-e2b2-4af4-82ad-f75606849c1c\", \"text68.csv\", 2280)"
            ]
          },
          "metadata": {}
        },
        {
          "output_type": "display_data",
          "data": {
            "text/plain": [
              "<IPython.core.display.Javascript object>"
            ],
            "application/javascript": [
              "\n",
              "    async function download(id, filename, size) {\n",
              "      if (!google.colab.kernel.accessAllowed) {\n",
              "        return;\n",
              "      }\n",
              "      const div = document.createElement('div');\n",
              "      const label = document.createElement('label');\n",
              "      label.textContent = `Downloading \"${filename}\": `;\n",
              "      div.appendChild(label);\n",
              "      const progress = document.createElement('progress');\n",
              "      progress.max = size;\n",
              "      div.appendChild(progress);\n",
              "      document.body.appendChild(div);\n",
              "\n",
              "      const buffers = [];\n",
              "      let downloaded = 0;\n",
              "\n",
              "      const channel = await google.colab.kernel.comms.open(id);\n",
              "      // Send a message to notify the kernel that we're ready.\n",
              "      channel.send({})\n",
              "\n",
              "      for await (const message of channel.messages) {\n",
              "        // Send a message to notify the kernel that we're ready.\n",
              "        channel.send({})\n",
              "        if (message.buffers) {\n",
              "          for (const buffer of message.buffers) {\n",
              "            buffers.push(buffer);\n",
              "            downloaded += buffer.byteLength;\n",
              "            progress.value = downloaded;\n",
              "          }\n",
              "        }\n",
              "      }\n",
              "      const blob = new Blob(buffers, {type: 'application/binary'});\n",
              "      const a = document.createElement('a');\n",
              "      a.href = window.URL.createObjectURL(blob);\n",
              "      a.download = filename;\n",
              "      div.appendChild(a);\n",
              "      a.click();\n",
              "      div.remove();\n",
              "    }\n",
              "  "
            ]
          },
          "metadata": {}
        },
        {
          "output_type": "display_data",
          "data": {
            "text/plain": [
              "<IPython.core.display.Javascript object>"
            ],
            "application/javascript": [
              "download(\"download_c95465d8-b30e-46dc-917f-dd045cec620d\", \"text69.csv\", 2531)"
            ]
          },
          "metadata": {}
        },
        {
          "output_type": "display_data",
          "data": {
            "text/plain": [
              "<IPython.core.display.Javascript object>"
            ],
            "application/javascript": [
              "\n",
              "    async function download(id, filename, size) {\n",
              "      if (!google.colab.kernel.accessAllowed) {\n",
              "        return;\n",
              "      }\n",
              "      const div = document.createElement('div');\n",
              "      const label = document.createElement('label');\n",
              "      label.textContent = `Downloading \"${filename}\": `;\n",
              "      div.appendChild(label);\n",
              "      const progress = document.createElement('progress');\n",
              "      progress.max = size;\n",
              "      div.appendChild(progress);\n",
              "      document.body.appendChild(div);\n",
              "\n",
              "      const buffers = [];\n",
              "      let downloaded = 0;\n",
              "\n",
              "      const channel = await google.colab.kernel.comms.open(id);\n",
              "      // Send a message to notify the kernel that we're ready.\n",
              "      channel.send({})\n",
              "\n",
              "      for await (const message of channel.messages) {\n",
              "        // Send a message to notify the kernel that we're ready.\n",
              "        channel.send({})\n",
              "        if (message.buffers) {\n",
              "          for (const buffer of message.buffers) {\n",
              "            buffers.push(buffer);\n",
              "            downloaded += buffer.byteLength;\n",
              "            progress.value = downloaded;\n",
              "          }\n",
              "        }\n",
              "      }\n",
              "      const blob = new Blob(buffers, {type: 'application/binary'});\n",
              "      const a = document.createElement('a');\n",
              "      a.href = window.URL.createObjectURL(blob);\n",
              "      a.download = filename;\n",
              "      div.appendChild(a);\n",
              "      a.click();\n",
              "      div.remove();\n",
              "    }\n",
              "  "
            ]
          },
          "metadata": {}
        },
        {
          "output_type": "display_data",
          "data": {
            "text/plain": [
              "<IPython.core.display.Javascript object>"
            ],
            "application/javascript": [
              "download(\"download_b53c8c86-f238-47ed-93d0-18e7fa30f720\", \"text80.csv\", 2755)"
            ]
          },
          "metadata": {}
        },
        {
          "output_type": "display_data",
          "data": {
            "text/plain": [
              "<IPython.core.display.Javascript object>"
            ],
            "application/javascript": [
              "\n",
              "    async function download(id, filename, size) {\n",
              "      if (!google.colab.kernel.accessAllowed) {\n",
              "        return;\n",
              "      }\n",
              "      const div = document.createElement('div');\n",
              "      const label = document.createElement('label');\n",
              "      label.textContent = `Downloading \"${filename}\": `;\n",
              "      div.appendChild(label);\n",
              "      const progress = document.createElement('progress');\n",
              "      progress.max = size;\n",
              "      div.appendChild(progress);\n",
              "      document.body.appendChild(div);\n",
              "\n",
              "      const buffers = [];\n",
              "      let downloaded = 0;\n",
              "\n",
              "      const channel = await google.colab.kernel.comms.open(id);\n",
              "      // Send a message to notify the kernel that we're ready.\n",
              "      channel.send({})\n",
              "\n",
              "      for await (const message of channel.messages) {\n",
              "        // Send a message to notify the kernel that we're ready.\n",
              "        channel.send({})\n",
              "        if (message.buffers) {\n",
              "          for (const buffer of message.buffers) {\n",
              "            buffers.push(buffer);\n",
              "            downloaded += buffer.byteLength;\n",
              "            progress.value = downloaded;\n",
              "          }\n",
              "        }\n",
              "      }\n",
              "      const blob = new Blob(buffers, {type: 'application/binary'});\n",
              "      const a = document.createElement('a');\n",
              "      a.href = window.URL.createObjectURL(blob);\n",
              "      a.download = filename;\n",
              "      div.appendChild(a);\n",
              "      a.click();\n",
              "      div.remove();\n",
              "    }\n",
              "  "
            ]
          },
          "metadata": {}
        },
        {
          "output_type": "display_data",
          "data": {
            "text/plain": [
              "<IPython.core.display.Javascript object>"
            ],
            "application/javascript": [
              "download(\"download_3430842b-40c3-4363-817d-927d0cd2f93c\", \"text81.csv\", 2779)"
            ]
          },
          "metadata": {}
        },
        {
          "output_type": "display_data",
          "data": {
            "text/plain": [
              "<IPython.core.display.Javascript object>"
            ],
            "application/javascript": [
              "\n",
              "    async function download(id, filename, size) {\n",
              "      if (!google.colab.kernel.accessAllowed) {\n",
              "        return;\n",
              "      }\n",
              "      const div = document.createElement('div');\n",
              "      const label = document.createElement('label');\n",
              "      label.textContent = `Downloading \"${filename}\": `;\n",
              "      div.appendChild(label);\n",
              "      const progress = document.createElement('progress');\n",
              "      progress.max = size;\n",
              "      div.appendChild(progress);\n",
              "      document.body.appendChild(div);\n",
              "\n",
              "      const buffers = [];\n",
              "      let downloaded = 0;\n",
              "\n",
              "      const channel = await google.colab.kernel.comms.open(id);\n",
              "      // Send a message to notify the kernel that we're ready.\n",
              "      channel.send({})\n",
              "\n",
              "      for await (const message of channel.messages) {\n",
              "        // Send a message to notify the kernel that we're ready.\n",
              "        channel.send({})\n",
              "        if (message.buffers) {\n",
              "          for (const buffer of message.buffers) {\n",
              "            buffers.push(buffer);\n",
              "            downloaded += buffer.byteLength;\n",
              "            progress.value = downloaded;\n",
              "          }\n",
              "        }\n",
              "      }\n",
              "      const blob = new Blob(buffers, {type: 'application/binary'});\n",
              "      const a = document.createElement('a');\n",
              "      a.href = window.URL.createObjectURL(blob);\n",
              "      a.download = filename;\n",
              "      div.appendChild(a);\n",
              "      a.click();\n",
              "      div.remove();\n",
              "    }\n",
              "  "
            ]
          },
          "metadata": {}
        },
        {
          "output_type": "display_data",
          "data": {
            "text/plain": [
              "<IPython.core.display.Javascript object>"
            ],
            "application/javascript": [
              "download(\"download_4044407d-b182-4a2e-82da-4fc15f635125\", \"text82.csv\", 1018)"
            ]
          },
          "metadata": {}
        },
        {
          "output_type": "display_data",
          "data": {
            "text/plain": [
              "<IPython.core.display.Javascript object>"
            ],
            "application/javascript": [
              "\n",
              "    async function download(id, filename, size) {\n",
              "      if (!google.colab.kernel.accessAllowed) {\n",
              "        return;\n",
              "      }\n",
              "      const div = document.createElement('div');\n",
              "      const label = document.createElement('label');\n",
              "      label.textContent = `Downloading \"${filename}\": `;\n",
              "      div.appendChild(label);\n",
              "      const progress = document.createElement('progress');\n",
              "      progress.max = size;\n",
              "      div.appendChild(progress);\n",
              "      document.body.appendChild(div);\n",
              "\n",
              "      const buffers = [];\n",
              "      let downloaded = 0;\n",
              "\n",
              "      const channel = await google.colab.kernel.comms.open(id);\n",
              "      // Send a message to notify the kernel that we're ready.\n",
              "      channel.send({})\n",
              "\n",
              "      for await (const message of channel.messages) {\n",
              "        // Send a message to notify the kernel that we're ready.\n",
              "        channel.send({})\n",
              "        if (message.buffers) {\n",
              "          for (const buffer of message.buffers) {\n",
              "            buffers.push(buffer);\n",
              "            downloaded += buffer.byteLength;\n",
              "            progress.value = downloaded;\n",
              "          }\n",
              "        }\n",
              "      }\n",
              "      const blob = new Blob(buffers, {type: 'application/binary'});\n",
              "      const a = document.createElement('a');\n",
              "      a.href = window.URL.createObjectURL(blob);\n",
              "      a.download = filename;\n",
              "      div.appendChild(a);\n",
              "      a.click();\n",
              "      div.remove();\n",
              "    }\n",
              "  "
            ]
          },
          "metadata": {}
        },
        {
          "output_type": "display_data",
          "data": {
            "text/plain": [
              "<IPython.core.display.Javascript object>"
            ],
            "application/javascript": [
              "download(\"download_8b376cf1-f87b-4ea9-aeb2-596a92937e40\", \"text83.csv\", 970)"
            ]
          },
          "metadata": {}
        },
        {
          "output_type": "display_data",
          "data": {
            "text/plain": [
              "<IPython.core.display.Javascript object>"
            ],
            "application/javascript": [
              "\n",
              "    async function download(id, filename, size) {\n",
              "      if (!google.colab.kernel.accessAllowed) {\n",
              "        return;\n",
              "      }\n",
              "      const div = document.createElement('div');\n",
              "      const label = document.createElement('label');\n",
              "      label.textContent = `Downloading \"${filename}\": `;\n",
              "      div.appendChild(label);\n",
              "      const progress = document.createElement('progress');\n",
              "      progress.max = size;\n",
              "      div.appendChild(progress);\n",
              "      document.body.appendChild(div);\n",
              "\n",
              "      const buffers = [];\n",
              "      let downloaded = 0;\n",
              "\n",
              "      const channel = await google.colab.kernel.comms.open(id);\n",
              "      // Send a message to notify the kernel that we're ready.\n",
              "      channel.send({})\n",
              "\n",
              "      for await (const message of channel.messages) {\n",
              "        // Send a message to notify the kernel that we're ready.\n",
              "        channel.send({})\n",
              "        if (message.buffers) {\n",
              "          for (const buffer of message.buffers) {\n",
              "            buffers.push(buffer);\n",
              "            downloaded += buffer.byteLength;\n",
              "            progress.value = downloaded;\n",
              "          }\n",
              "        }\n",
              "      }\n",
              "      const blob = new Blob(buffers, {type: 'application/binary'});\n",
              "      const a = document.createElement('a');\n",
              "      a.href = window.URL.createObjectURL(blob);\n",
              "      a.download = filename;\n",
              "      div.appendChild(a);\n",
              "      a.click();\n",
              "      div.remove();\n",
              "    }\n",
              "  "
            ]
          },
          "metadata": {}
        },
        {
          "output_type": "display_data",
          "data": {
            "text/plain": [
              "<IPython.core.display.Javascript object>"
            ],
            "application/javascript": [
              "download(\"download_c44d4043-d728-4a62-90b0-f2d5ec437e1a\", \"text120.csv\", 2426)"
            ]
          },
          "metadata": {}
        }
      ]
    },
    {
      "cell_type": "code",
      "source": [
        "files.download('words.csv')"
      ],
      "metadata": {
        "colab": {
          "base_uri": "https://localhost:8080/",
          "height": 17
        },
        "id": "vNxcA07t983o",
        "outputId": "0bf94513-dca7-4924-b811-e7658f7444cf"
      },
      "execution_count": null,
      "outputs": [
        {
          "output_type": "display_data",
          "data": {
            "text/plain": [
              "<IPython.core.display.Javascript object>"
            ],
            "application/javascript": [
              "\n",
              "    async function download(id, filename, size) {\n",
              "      if (!google.colab.kernel.accessAllowed) {\n",
              "        return;\n",
              "      }\n",
              "      const div = document.createElement('div');\n",
              "      const label = document.createElement('label');\n",
              "      label.textContent = `Downloading \"${filename}\": `;\n",
              "      div.appendChild(label);\n",
              "      const progress = document.createElement('progress');\n",
              "      progress.max = size;\n",
              "      div.appendChild(progress);\n",
              "      document.body.appendChild(div);\n",
              "\n",
              "      const buffers = [];\n",
              "      let downloaded = 0;\n",
              "\n",
              "      const channel = await google.colab.kernel.comms.open(id);\n",
              "      // Send a message to notify the kernel that we're ready.\n",
              "      channel.send({})\n",
              "\n",
              "      for await (const message of channel.messages) {\n",
              "        // Send a message to notify the kernel that we're ready.\n",
              "        channel.send({})\n",
              "        if (message.buffers) {\n",
              "          for (const buffer of message.buffers) {\n",
              "            buffers.push(buffer);\n",
              "            downloaded += buffer.byteLength;\n",
              "            progress.value = downloaded;\n",
              "          }\n",
              "        }\n",
              "      }\n",
              "      const blob = new Blob(buffers, {type: 'application/binary'});\n",
              "      const a = document.createElement('a');\n",
              "      a.href = window.URL.createObjectURL(blob);\n",
              "      a.download = filename;\n",
              "      div.appendChild(a);\n",
              "      a.click();\n",
              "      div.remove();\n",
              "    }\n",
              "  "
            ]
          },
          "metadata": {}
        },
        {
          "output_type": "display_data",
          "data": {
            "text/plain": [
              "<IPython.core.display.Javascript object>"
            ],
            "application/javascript": [
              "download(\"download_132cd364-8e6d-4539-a39e-02a7ceec31ec\", \"words.csv\", 603429)"
            ]
          },
          "metadata": {}
        }
      ]
    },
    {
      "cell_type": "code",
      "source": [
        "search = 'себе'\n",
        "sent = \"он написал себе себе домой\"\n",
        "sent_ind = 0\n",
        "all = []\n",
        "while sent_ind < 1:\n",
        "    spis = []\n",
        "    srch_i = 0\n",
        "    words = sent.split()\n",
        "    word_i = 0\n",
        "    spis_n = []\n",
        "    while word_i < len(words) and srch_i < len(search.split(' ')):\n",
        "        if words[word_i] == search.split(' ')[srch_i]:\n",
        "            spis_n.append(words[word_i])\n",
        "            if srch_i == len(search.split(' '))-1:\n",
        "                spis.append(spis_n)\n",
        "                srch_i = 0\n",
        "            else:\n",
        "                srch_i+=1\n",
        "        else:\n",
        "            spis_n = []\n",
        "            srch_i = 0\n",
        "        word_i+=1\n",
        "    sent_ind+=1\n",
        "    if spis!=[]:\n",
        "        all.append(spis)\n",
        "print(all)"
      ],
      "metadata": {
        "colab": {
          "base_uri": "https://localhost:8080/"
        },
        "id": "EHOGs2SPjDYT",
        "outputId": "cae77171-8535-481c-a11e-28ce997c49ab"
      },
      "execution_count": null,
      "outputs": [
        {
          "output_type": "stream",
          "name": "stdout",
          "text": [
            "[[['себе', 'себе'], ['себе', 'себе']]]\n"
          ]
        }
      ]
    },
    {
      "cell_type": "code",
      "source": [
        "if search_first[0]!='\"' and search_first[0]!='\"':\n",
        "    res = []\n",
        "    search = search_first.split()\n",
        "    text_id = 1\n",
        "    while text_id<max(first_df['nmb_text']):\n",
        "        df = first_df[first_df['nmb_text']==text_id]\n",
        "        sent_ind = 1\n",
        "        all = []\n",
        "        while sent_ind<=max(df['nmb_sent']):\n",
        "            spis = []\n",
        "            srch_i = 0\n",
        "            words = list(df[df['nmb_sent']==sent_ind]['word'].values)\n",
        "            tags = list(df[df['nmb_sent']==sent_ind]['pos'].values)\n",
        "            lemmas = list(df[df['nmb_sent']==sent_ind]['lemma'].values)\n",
        "            word_i = 0\n",
        "            spis_n = []\n",
        "            while word_i<len(words) and srch_i<len(search):\n",
        "                if search[srch_i][0]=='\"' and search[srch_i][-1]=='\"':\n",
        "                    if '+' in search[srch_i]:\n",
        "                        data = search[srch_i].split('+')\n",
        "                        if data[0]==words[word_i] and data[1]==tags[word_i]:\n",
        "                            spis_n.append(words[word_i])\n",
        "                            print(word_i, srch_i, words[word_i], search[srch_i], len(words), sent_ind)\n",
        "                            srch_i+=1\n",
        "                    elif words[word_i] == search[srch_i]:\n",
        "                        spis_n.append(words[word_i])\n",
        "                        print(word_i, srch_i, words[word_i], search[srch_i], len(words), sent_ind)\n",
        "                        srch_i+=1\n",
        "                    elif tags[word_i] == search[srch_i]:\n",
        "                        spis_n.append(tags[word_i])\n",
        "                        print(word_i, srch_i, tags[word_i], search[srch_i], len(words), sent_ind)\n",
        "                        srch_i+=1\n",
        "                    else:\n",
        "                        word_i -=len(spis_n)\n",
        "                        srch_1 = 0\n",
        "                        spis_n = []\n",
        "                elif search[srch_i][0]!='\"' and search[srch_i][-1]!='\"':\n",
        "                    lem = m.parse(search[srch_i])[0].normal_form\n",
        "                    if '+' in search[srch_i]:\n",
        "                        data = search[srch_i].split('+')\n",
        "                        if m.parse(data[0])[0].normal_form==lemmas[word_i] and data[1]==tags[word_i]:\n",
        "                            spis_n.append(lemmas[word_i])\n",
        "                            print(word_i, srch_i, lemmas[word_i], search[srch_i], len(lemmas), sent_ind)\n",
        "                            srch_i+=1\n",
        "                    elif lemmas[word_i] == lem:\n",
        "                        spis_n.append(lemmas[word_i])\n",
        "                        print(word_i, srch_i, lemmas[word_i], lem, len(words), sent_ind)\n",
        "                        srch_i+=1\n",
        "                    elif tags[word_i] == search[srch_i]:\n",
        "                        spis_n.append(tags[word_i])\n",
        "                        print(word_i, srch_i, tags[word_i], search[srch_i], len(words), sent_ind)\n",
        "                        srch_i+=1\n",
        "                    else:\n",
        "                        word_i -=len(spis_n)\n",
        "                        srch_1 = 0\n",
        "                        spis_n = []\n",
        "\n",
        "                if spis_n!=[] and len(search) == len(spis_n):\n",
        "                    spis.append(spis_n)\n",
        "                    srch_i = 0\n",
        "                    word_i -=len(spis_n)\n",
        "                word_i+=1\n",
        "            # srch_i+=1\n",
        "            sent_ind+=1\n",
        "            if spis!=[]:\n",
        "                all.append(spis)\n",
        "        text_id+=1\n",
        "        res.append(all)\n",
        "        print(res)\n",
        "elif search_first[0]=='\"' and search_first[0]=='\"':\n",
        "    res = []\n",
        "    search = (search_first[1:-1]).split()\n",
        "    text_id = 1\n",
        "    while text_id<max(first_df['nmb_text']):\n",
        "        df = first_df[first_df['nmb_text']==text_id]\n",
        "        sent_ind = 0\n",
        "        all = []\n",
        "        while sent_ind<max(df['nmb_sent']):\n",
        "            spis = []\n",
        "            srch_i = 0\n",
        "            words = list(df[df['nmb_sent']==sent_ind]['word'].values)\n",
        "            tags = list(df[df['nmb_sent']==sent_ind]['pos'].values)\n",
        "            lemmas = list(df[df['nmb_sent']==sent_ind]['lemma'].values)\n",
        "            word_i = 0\n",
        "            spis_n = []\n",
        "            while word_i<len(words) and srch_i<len(search):\n",
        "                if '+' in search[srch_i]:\n",
        "                    data = search[srch_i].split('+')\n",
        "                    if data[0]==words[word_i] and data[1]==tags[word_i]:\n",
        "                        spis_n.append(words[word_i])\n",
        "                        print(word_i, srch_i, words[word_i], search[srch_i], len(words), sent_ind)\n",
        "                        srch_i+=1\n",
        "                elif words[word_i] == search[srch_i]:\n",
        "                    spis_n.append(words[word_i])\n",
        "                    print(word_i, srch_i, words[word_i], search[srch_i], len(words), sent_ind)\n",
        "                    srch_i+=1\n",
        "                elif tags[word_i] == search[srch_i]:\n",
        "                    spis_n.append(tags[word_i])\n",
        "                    print(word_i, srch_i, tags[word_i], search[srch_i], len(words), sent_ind)\n",
        "                    srch_i+=1\n",
        "                else:\n",
        "                    word_i -=len(spis_n)\n",
        "                    srch_1 = 0\n",
        "                    spis_n = []\n",
        "                if spis_n!=[] and len(search) == len(spis_n):\n",
        "                    word_i -=len(spis_n)\n",
        "                    srch_1 = 0\n",
        "                    spis.append(spis_n)\n",
        "                    spis_n = []\n",
        "                word_i+=1\n",
        "            #srch_i+=1\n",
        "            sent_ind+=1\n",
        "        if spis!=[]:\n",
        "            all.append(spis)\n",
        "        text_id+=1\n",
        "    res.append(all)\n",
        "    print(res)"
      ],
      "metadata": {
        "id": "FgMkqIKofiIA"
      },
      "execution_count": null,
      "outputs": []
    },
    {
      "cell_type": "code",
      "source": [
        "texxxt = 'Валерий Горбань. Законодатель - лучший друг угонщика (и другие статьи) СодержаниеFine HTMLPrinted versiontxt(Word,КПК)Lib.ru html Валерий Горбань. Законодатель - лучший друг угонщика (и другие статьи) Обожженные ненавистью'\n",
        "list(re.finditer(r'Валерий Горбань. Законодатель - лучший друг угонщика (и другие статьи)', texxxt))"
      ],
      "metadata": {
        "colab": {
          "base_uri": "https://localhost:8080/"
        },
        "id": "s8Xdu_sxmkne",
        "outputId": "6ff9af2a-e8da-46f5-e316-9658a4a6d757"
      },
      "execution_count": null,
      "outputs": [
        {
          "output_type": "execute_result",
          "data": {
            "text/plain": [
              "[]"
            ]
          },
          "metadata": {},
          "execution_count": 43
        }
      ]
    }
  ]
}